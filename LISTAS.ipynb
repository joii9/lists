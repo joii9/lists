{
 "cells": [
  {
   "cell_type": "markdown",
   "id": "31bd06b4",
   "metadata": {},
   "source": [
    "# Listas"
   ]
  },
  {
   "cell_type": "code",
   "execution_count": null,
   "id": "d9976a7a",
   "metadata": {
    "scrolled": true
   },
   "outputs": [],
   "source": [
    "lista=[2,5,1,9] #Lista original\n",
    "print(lista)"
   ]
  },
  {
   "cell_type": "markdown",
   "id": "33479104",
   "metadata": {},
   "source": [
    "Aquí coloco el metodo dir() para ver los metodos que son posibles en una lista"
   ]
  },
  {
   "cell_type": "code",
   "execution_count": null,
   "id": "115e0f01",
   "metadata": {
    "scrolled": false
   },
   "outputs": [],
   "source": [
    "print(dir(lista))"
   ]
  },
  {
   "cell_type": "markdown",
   "id": "23edd51a",
   "metadata": {},
   "source": [
    "## .apend()"
   ]
  },
  {
   "cell_type": "markdown",
   "id": "d9a4cbaf",
   "metadata": {},
   "source": [
    "Vamos a adjuntar un elemento a la lista original"
   ]
  },
  {
   "cell_type": "code",
   "execution_count": null,
   "id": "e1cba430",
   "metadata": {},
   "outputs": [],
   "source": [
    "lista.append(7)\n",
    "print(lista)"
   ]
  },
  {
   "cell_type": "markdown",
   "id": "c1fb8cd0",
   "metadata": {},
   "source": [
    "## .clear()"
   ]
  },
  {
   "cell_type": "code",
   "execution_count": null,
   "id": "5058cfe8",
   "metadata": {
    "scrolled": true
   },
   "outputs": [],
   "source": [
    "lista.clear()\n",
    "print(lista)"
   ]
  },
  {
   "cell_type": "markdown",
   "id": "1f5d8b38",
   "metadata": {},
   "source": [
    "## .copy()"
   ]
  },
  {
   "cell_type": "code",
   "execution_count": null,
   "id": "3a972b5c",
   "metadata": {
    "scrolled": true
   },
   "outputs": [],
   "source": [
    "copied_list=lista.copy()\n",
    "print(copied_list)"
   ]
  },
  {
   "cell_type": "markdown",
   "id": "d7efd7be",
   "metadata": {},
   "source": [
    "## .count()"
   ]
  },
  {
   "cell_type": "code",
   "execution_count": null,
   "id": "51ade3f4",
   "metadata": {
    "scrolled": true
   },
   "outputs": [],
   "source": [
    "print(lista.count(9))"
   ]
  },
  {
   "cell_type": "markdown",
   "id": "53a6e00c",
   "metadata": {},
   "source": [
    "## .extend()"
   ]
  },
  {
   "cell_type": "code",
   "execution_count": null,
   "id": "01516ca1",
   "metadata": {},
   "outputs": [],
   "source": [
    "lista=[2,5,1,9]\n",
    "otra_lista=[\"Buick\", \"Nissan\", \"Ford\", \"Chevrolet\"]\n",
    "lista.extend(otra_lista)\n",
    "print(lista)"
   ]
  },
  {
   "cell_type": "markdown",
   "id": "4eb5537c",
   "metadata": {},
   "source": [
    "## .index()"
   ]
  },
  {
   "cell_type": "code",
   "execution_count": null,
   "id": "6cb48a2d",
   "metadata": {},
   "outputs": [],
   "source": [
    "otra_lista= [\"Buick\", \"Nissan\", \"Ford\", \"Chevrolet\"]\n",
    "\n",
    "indice=otra_lista.index(\"Ford\")\n",
    "\n",
    "print(indice)"
   ]
  },
  {
   "cell_type": "markdown",
   "id": "0b331e17",
   "metadata": {},
   "source": [
    "## .insert()"
   ]
  },
  {
   "cell_type": "code",
   "execution_count": null,
   "id": "ed90039b",
   "metadata": {},
   "outputs": [],
   "source": [
    "otra_lista=[\"Buick\", \"Nissan\", \"Ford\", \"Chevrolet\"]\n",
    "\n",
    "otra_lista.insert(0,\"KIA\") #Es necesario escribir el indice donde se insertaría el nuevo elemento\n",
    "\n",
    "print(otra_lista)"
   ]
  },
  {
   "cell_type": "markdown",
   "id": "b7db2a26",
   "metadata": {},
   "source": [
    "## .pop()"
   ]
  },
  {
   "cell_type": "code",
   "execution_count": null,
   "id": "fe8a54e0",
   "metadata": {},
   "outputs": [],
   "source": [
    "lista=[\"Angela\", \"Victoria\", \"Sandra\", \"Mariel\", \"Octavia\"]\n",
    "lista.pop(3) #Quita el elemento del indice\n",
    "print(lista)"
   ]
  },
  {
   "cell_type": "markdown",
   "id": "8877846c",
   "metadata": {},
   "source": [
    "## .remove()"
   ]
  },
  {
   "cell_type": "code",
   "execution_count": null,
   "id": "91c0401d",
   "metadata": {},
   "outputs": [],
   "source": [
    "fruits=[\"Sandia\", \"Melon\", \"Manzana\", \"Pera\", \"Uva\", \"Manzana\"]\n",
    "fruits.remove(\"Manzana\")\n",
    "print(fruits)"
   ]
  },
  {
   "cell_type": "markdown",
   "id": "cec8b98b",
   "metadata": {},
   "source": [
    "## .reverse()"
   ]
  },
  {
   "cell_type": "code",
   "execution_count": 147,
   "id": "d078c2e2",
   "metadata": {},
   "outputs": [
    {
     "name": "stdout",
     "output_type": "stream",
     "text": [
      "['bcdefghijklmnñopqrstuvwxyz', 'a']\n"
     ]
    }
   ],
   "source": [
    "abecedario=[\"a\",\"bcdefghijklmnñopqrstuvwxyz\"]\n",
    "abecedario.reverse()\n",
    "print(abecedario)"
   ]
  },
  {
   "cell_type": "markdown",
   "id": "69f15b38",
   "metadata": {},
   "source": [
    "## .sort()"
   ]
  },
  {
   "cell_type": "code",
   "execution_count": null,
   "id": "94ba67ec",
   "metadata": {},
   "outputs": [],
   "source": [
    "brands=[\"Volvo\", \"Mercedes Benz\", \"Nissan\", \"Kia\", \"BMW\", \"Audi\"]\n",
    "\n",
    "brands.sort()\n",
    "\n",
    "print(brands)"
   ]
  },
  {
   "cell_type": "markdown",
   "id": "81141be5",
   "metadata": {},
   "source": [
    "## sorted(array)"
   ]
  },
  {
   "cell_type": "code",
   "execution_count": null,
   "id": "d5a21b80",
   "metadata": {},
   "outputs": [],
   "source": [
    "array=[\"Volvo\", \"Mercedes Benz\", \"Nissan\", \"Kia\", \"BMW\", \"Audi\"]\n",
    "\n",
    "sorted_array=sorted(array)\n",
    "\n",
    "print(sorted_array)"
   ]
  },
  {
   "cell_type": "markdown",
   "id": "775c6480",
   "metadata": {},
   "source": [
    "## max()"
   ]
  },
  {
   "cell_type": "code",
   "execution_count": null,
   "id": "8489edcd",
   "metadata": {},
   "outputs": [],
   "source": [
    "lista=[0,0,0,1,2,0]\n",
    "print(max(lista))"
   ]
  },
  {
   "cell_type": "markdown",
   "id": "472e1c04",
   "metadata": {},
   "source": [
    "## min()"
   ]
  },
  {
   "cell_type": "code",
   "execution_count": null,
   "id": "13f0cd12",
   "metadata": {},
   "outputs": [],
   "source": [
    "lista=[0,0,0,1,2,0]\n",
    "print(min(lista))"
   ]
  },
  {
   "cell_type": "markdown",
   "id": "b65e71be",
   "metadata": {},
   "source": [
    "## set()"
   ]
  },
  {
   "cell_type": "code",
   "execution_count": null,
   "id": "ac3d2b98",
   "metadata": {},
   "outputs": [],
   "source": [
    "ar = [10, 20, 20, 10, 10, 30, 50, 10, 20]\n",
    "\n",
    "print(set(ar)) #Pone todos los elementos de manera aleatoria quitando todos los elementos repetidos"
   ]
  },
  {
   "cell_type": "markdown",
   "id": "6ab45f57",
   "metadata": {},
   "source": [
    "Un objeto set() no tiene indices"
   ]
  },
  {
   "cell_type": "code",
   "execution_count": null,
   "id": "feb3b6c0",
   "metadata": {},
   "outputs": [],
   "source": [
    "ar=[1,2,3,4,5,6,7,8,9,9,8,8,8,9]\n",
    "print(set(ar))\n",
    "\n",
    "for i in set(ar):\n",
    "    print(i)"
   ]
  },
  {
   "cell_type": "markdown",
   "id": "8c566fc8",
   "metadata": {},
   "source": [
    "## Strings\n",
    "\n",
    "String and list are very similar. Here are some examples"
   ]
  },
  {
   "cell_type": "markdown",
   "id": "31924e38",
   "metadata": {},
   "source": [
    "## split()"
   ]
  },
  {
   "cell_type": "code",
   "execution_count": null,
   "id": "d6aee4d9",
   "metadata": {},
   "outputs": [],
   "source": [
    "texto=\"Welcome to the jungle\"\n",
    "\n",
    "split_text=texto.split()\n",
    "\n",
    "print(split_text)"
   ]
  },
  {
   "cell_type": "markdown",
   "id": "6a464b8c",
   "metadata": {},
   "source": [
    "## join()"
   ]
  },
  {
   "cell_type": "code",
   "execution_count": null,
   "id": "c9133d0a",
   "metadata": {},
   "outputs": [],
   "source": [
    "myTuple=(\"Joel\", \"Carbajal\", \"Muñoz\")\n",
    "\n",
    "x = \" \".join(myTuple)\n",
    "\n",
    "print(x)"
   ]
  },
  {
   "cell_type": "code",
   "execution_count": null,
   "id": "5446884a",
   "metadata": {},
   "outputs": [],
   "source": []
  },
  {
   "cell_type": "code",
   "execution_count": null,
   "id": "bba71190",
   "metadata": {},
   "outputs": [],
   "source": []
  },
  {
   "cell_type": "markdown",
   "id": "0587bdc7",
   "metadata": {},
   "source": [
    "# Ejercicios"
   ]
  },
  {
   "cell_type": "code",
   "execution_count": null,
   "id": "87be0a12",
   "metadata": {},
   "outputs": [],
   "source": [
    "my_list=[]\n",
    "\n",
    "for i in range(0,7):\n",
    "    print(i)\n",
    "    my_list.append(i)\n",
    "print(my_list)"
   ]
  },
  {
   "cell_type": "markdown",
   "id": "1c18e700",
   "metadata": {},
   "source": [
    "# while-for"
   ]
  },
  {
   "cell_type": "code",
   "execution_count": null,
   "id": "c96f07f6",
   "metadata": {},
   "outputs": [],
   "source": [
    "l=[-5, 0,1, 2, 3, 4, 5, 6]\n",
    "new_list=[]\n",
    "\n",
    "while len(l) != 0:\n",
    "    min=l[0]\n",
    "    for contador in range(len(l)-1):\n",
    "        #print(contador)\n",
    "        aux=l[contador+1]\n",
    "        if min<aux:\n",
    "            min=min\n",
    "        else:\n",
    "            min=aux\n",
    "    print(min)\n",
    "    new_list.append(min)\n",
    "    l.remove(min)\n",
    "    \n",
    "\n",
    "print(new_list)\n",
    "print(l)        \n",
    "print(min)\n"
   ]
  },
  {
   "cell_type": "markdown",
   "id": "2bca77d6",
   "metadata": {},
   "source": [
    "# for-for"
   ]
  },
  {
   "cell_type": "code",
   "execution_count": null,
   "id": "09e22dfd",
   "metadata": {},
   "outputs": [],
   "source": [
    "l=[8, 0,3, 0, 9, 7, 5, 6]\n",
    "new_list=[]\n",
    "\n",
    "for i in range(len(l)):\n",
    "    print(i)\n",
    "    min=l[0]\n",
    "    for contador in range(len(l)-1):\n",
    "        #print(contador)\n",
    "        aux=l[contador+1]\n",
    "        if min<aux:\n",
    "            min=min\n",
    "        else:\n",
    "            min=aux\n",
    "    print(min)\n",
    "    new_list.append(min)\n",
    "    l.remove(min)\n"
   ]
  },
  {
   "cell_type": "markdown",
   "id": "85c8b6aa",
   "metadata": {},
   "source": [
    "# while-while"
   ]
  },
  {
   "cell_type": "code",
   "execution_count": null,
   "id": "8b59bd83",
   "metadata": {},
   "outputs": [],
   "source": [
    "l=[-5, 0,1, 2, 3, 4, 5, 6]\n",
    "new_list=[]\n",
    "\n",
    "while len(l) != 0:\n",
    "    min=l[0]\n",
    "    contador=0\n",
    "    while contador < len(l)-1:\n",
    "        aux=l[contador+1]\n",
    "        if min<aux:\n",
    "            min=min\n",
    "        else:\n",
    "            min=aux\n",
    "        contador=contador+1\n",
    "    print(min)\n",
    "    new_list.append(min)\n",
    "    l.remove(min)\n",
    "\n",
    "print(new_list)\n",
    "print(l)        \n",
    "print(min)"
   ]
  },
  {
   "cell_type": "markdown",
   "id": "d2daf7b3",
   "metadata": {},
   "source": [
    "# for-while"
   ]
  },
  {
   "cell_type": "code",
   "execution_count": null,
   "id": "e4dfa1f7",
   "metadata": {},
   "outputs": [],
   "source": [
    "l=[-5, 7,1, 2, 3, 4, 5, 6]\n",
    "new_list=[]\n",
    "\n",
    "\n",
    "for i in range(len(l)):\n",
    "    min=l[0]\n",
    "    contador=0\n",
    "    while contador < len(l)-1:\n",
    "        aux=l[contador+1]\n",
    "        contador=contador+1\n",
    "        print(aux)\n",
    "        if min<aux:\n",
    "            min=min\n",
    "        else:\n",
    "            min=aux\n",
    "    print(min)\n",
    "    new_list.append(min)\n",
    "    l.remove(min)\n",
    "    \n",
    "\n",
    "print(new_list)\n",
    "print(l)        \n",
    "print(min)"
   ]
  },
  {
   "cell_type": "code",
   "execution_count": null,
   "id": "bf5bcb5c",
   "metadata": {},
   "outputs": [],
   "source": [
    "i=0\n",
    "while i < 5:\n",
    "    print(i)\n",
    "    i+=1"
   ]
  },
  {
   "cell_type": "code",
   "execution_count": null,
   "id": "bb4a5888",
   "metadata": {},
   "outputs": [],
   "source": [
    "i=5\n",
    "while i>0:\n",
    "    print(i)\n",
    "    i-=1\n",
    "    "
   ]
  },
  {
   "cell_type": "code",
   "execution_count": null,
   "id": "b1a7808b",
   "metadata": {},
   "outputs": [],
   "source": [
    "i=5\n",
    "for j in range(i):\n",
    "    print(i)\n",
    "    i-=1"
   ]
  },
  {
   "cell_type": "code",
   "execution_count": null,
   "id": "be13fef7",
   "metadata": {},
   "outputs": [],
   "source": [
    "l=[3,52,4,43]\n",
    "while len(l):\n",
    "    l.pop(0)\n",
    "    print(l)"
   ]
  },
  {
   "cell_type": "code",
   "execution_count": null,
   "id": "6dae3f0d",
   "metadata": {},
   "outputs": [],
   "source": [
    "l=[3,52,4,43]\n",
    "for i in range(len(l)):\n",
    "    l.pop(0)\n",
    "    print(l)"
   ]
  },
  {
   "cell_type": "code",
   "execution_count": null,
   "id": "09f47b42",
   "metadata": {},
   "outputs": [],
   "source": [
    "flag=\" \"\n",
    "if flag:\n",
    "    print(\"Es verdad\")\n",
    "else:\n",
    "    print(\"Es mentira\")"
   ]
  },
  {
   "cell_type": "code",
   "execution_count": null,
   "id": "619a4587",
   "metadata": {},
   "outputs": [],
   "source": [
    "lista=[4,85,53,2,854]"
   ]
  },
  {
   "cell_type": "code",
   "execution_count": null,
   "id": "a98f894e",
   "metadata": {},
   "outputs": [],
   "source": [
    "print(lista[::-1])"
   ]
  },
  {
   "cell_type": "code",
   "execution_count": null,
   "id": "70e78a46",
   "metadata": {
    "scrolled": true
   },
   "outputs": [],
   "source": [
    "maze=[[1,1,1],[1,0,1],[0,1,1]]\n",
    "print(maze[0][2])"
   ]
  },
  {
   "cell_type": "code",
   "execution_count": null,
   "id": "be1f0749",
   "metadata": {
    "scrolled": true
   },
   "outputs": [],
   "source": [
    "if maze[0][0] and maze[2][2] == 1:\n",
    "    print(\"Puede que tenga solución\")\n",
    "    #print(maze[1][0])\n",
    "    if maze[0][1] or maze[1][0] ==1 and maze[1][2] or maze[2][1] ==1:\n",
    "        print(\"Ahi vas perro\")\n",
    "        if maze[1][1] ==1:\n",
    "            print(\"Tiene solución pasando por el centro\")\n",
    "        elif maze[0][2] and maze[0][1]==1 and maze[1][2]:\n",
    "            print(\"Tiene solución por la periferia derecha\")\n",
    "        elif maze[1][0] and maze[2][0]==1 and maze[2][1]:\n",
    "            print(\"Tiene solución por la periferia izquierda\")\n",
    "        else:\n",
    "            print(\"Lamentablemente este laberito no tiene solución\")\n",
    "    else:\n",
    "        print(\"Hasta aquí llegaste Lord Blackwood\")\n",
    "else:\n",
    "    print(\"Unfoutunatelly this maze does not have solution\")"
   ]
  },
  {
   "cell_type": "markdown",
   "id": "47553ac2",
   "metadata": {},
   "source": [
    "# HackerRank"
   ]
  },
  {
   "cell_type": "markdown",
   "id": "68a4b701",
   "metadata": {},
   "source": [
    "## Plusminus"
   ]
  },
  {
   "cell_type": "code",
   "execution_count": null,
   "id": "b8fe7e30",
   "metadata": {},
   "outputs": [],
   "source": [
    "\n",
    "\n",
    "from random import randint\n",
    "arr=[randint(-100,100) for i in range(10000)]\n",
    "arrP=[]\n",
    "arrN=[]\n",
    "arrZ=[]\n",
    "\n",
    "\n",
    "for i in arr:\n",
    "    if i > 0:\n",
    "        arrP.append(i)\n",
    "    elif i < 0:\n",
    "        arrN.append(i)\n",
    "    else:\n",
    "        arrZ.append(i)\n",
    "\n",
    "P=len(arrP)/len(arr)\n",
    "N=len(arrN)/len(arr)\n",
    "Z=len(arrZ)/len(arr)\n",
    "\n",
    "print(len(arrP)/len(arr))\n",
    "print(len(arrN)/len(arr))\n",
    "print(len(arrZ)/len(arr))\n",
    "\n",
    "#print(P)\n",
    "#print(N)\n",
    "#print(Z)\n",
    "\n",
    "        \n",
    "#print(\"{:.6f}\".format(P))\n",
    "#print(\"{:.6f}\".format(N))\n",
    "#print(\"{:.6f}\".format(Z))"
   ]
  },
  {
   "cell_type": "markdown",
   "id": "6d689b5b",
   "metadata": {},
   "source": [
    "## Mini-Max Sum"
   ]
  },
  {
   "cell_type": "code",
   "execution_count": null,
   "id": "422dd99c",
   "metadata": {
    "scrolled": true
   },
   "outputs": [],
   "source": [
    "arr=[1,2,3,4, 5]\n",
    "arr_min=arr.copy()\n",
    "print(arr)\n",
    "arr_max=arr.copy()\n",
    "min=arr[0]\n",
    "\n",
    "\n",
    "for i in arr_min:\n",
    "    #print(\"ARRAY:\",i)\n",
    "    for j in range(len(arr_min)-1):\n",
    "        aux=j+1\n",
    "        #print(arr[aux])\n",
    "        if min < arr[aux]:\n",
    "            min=min\n",
    "        else:\n",
    "            min=arr[aux]\n",
    "            \n",
    "#print(\"minimo\",min)\n",
    "index_minimo= arr_min.index(min)\n",
    "#print(index_minimo)\n",
    "print(arr_min.pop(index_minimo))\n",
    "print(arr_min)\n",
    "\n",
    "sum_min=0\n",
    "for i in arr_min:\n",
    "    #arr_min[i]\n",
    "    #print(i)\n",
    "    sum_min+=i\n",
    "    \n",
    "print(\"La suma quitando el minimo es:\" ,sum_min)\n",
    "print(\"\\n\")\n",
    "    \n",
    "#print(arr_max)\n",
    "max=arr[0]\n",
    "for a in arr_max:\n",
    "    #print(a)\n",
    "    for b in range(len(arr_max)-1):\n",
    "        aux=b+1\n",
    "        #print(arr[aux])\n",
    "        if max > arr[aux]:\n",
    "            max=max\n",
    "        else:\n",
    "            max=arr[aux]\n",
    "    \n",
    "#print(\"Maximo\", max)\n",
    "index_maximo= arr_max.index(max)\n",
    "print(arr_max.pop(index_maximo))\n",
    "print(arr_max)\n",
    "\n",
    "sum_max=0\n",
    "for g in arr_max:\n",
    "    sum_max=sum_max+g\n",
    "\n",
    "print(\"La suma quitando el maximo es: \", sum_max)\n",
    "    \n",
    " \n",
    "        \n",
    "        \n",
    "        "
   ]
  },
  {
   "cell_type": "markdown",
   "id": "a7211a31",
   "metadata": {},
   "source": [
    "## Time-Conversion"
   ]
  },
  {
   "cell_type": "code",
   "execution_count": null,
   "id": "331ff5e4",
   "metadata": {},
   "outputs": [],
   "source": [
    "hour=\"01:00:00PM\" #Regresa 00:01:00HRS\n",
    "\n",
    "#print(hour[:2])\n",
    "\n",
    "if hour[-2:] == \"AM\" and int(hour[:2])>= 12:\n",
    "    print(\"0\"+str(int(hour[:2])-12)+hour[2:-2]+\"HRS\")\n",
    "elif hour[-2:] == \"PM\" and int(hour[:2]) == 12:\n",
    "    print(hour[:-2]+\"HRS\")\n",
    "elif hour[-2:] == \"AM\":\n",
    "    print(hour[:-2]+\"HRS\")\n",
    "elif hour[-2:] == \"PM\" and int(hour[:2]) >= 1:\n",
    "    print(str(int(hour[:2])+12)+hour[2:-2]+\"HRS\")\n",
    "#else:\n",
    " #   m_hour=int(hour[:2])+12\n",
    "  #  print(str(m_hour)+hour[2:-2]+\"HRS\")"
   ]
  },
  {
   "cell_type": "code",
   "execution_count": null,
   "id": "fefd9e3a",
   "metadata": {},
   "outputs": [],
   "source": [
    "hour=\"01:00:00PM\"\n",
    "hora=int(hour[:2])%12+(hour[-2:]==\"PM\")*12\n",
    "print(str(hora).zfill(2)+hour[2:-2])"
   ]
  },
  {
   "cell_type": "code",
   "execution_count": null,
   "id": "1c18baa5",
   "metadata": {},
   "outputs": [],
   "source": [
    "\n",
    "hour=\"01:00:00PM\"\n",
    "hora=int(hour[:2])%12\n",
    "if hour[-2:]==\"PM\":\n",
    "    hora=hora+12\n",
    "print(str(hora).zfill(2)+hour[2:-2])"
   ]
  },
  {
   "cell_type": "code",
   "execution_count": null,
   "id": "a45e6f04",
   "metadata": {},
   "outputs": [],
   "source": [
    "def timeConversion(s):\n",
    "    # Write your code here\n",
    "\n",
    "    if s[-2:] == \"AM\" and int(s[:2])>= 12:\n",
    "        return print(\"0\"+str(int(s[:2])-12)+s[2:-2]+\"HRS\")\n",
    "    elif s[-2:] == \"PM\" and int(s[:2]) == 12:\n",
    "        return print(s[:-2]+\"HRS\")\n",
    "    elif s[-2:] == \"AM\":\n",
    "        return print(s[:-2]+\"HRS\")\n",
    "    elif s[-2:] == \"PM\" and int(s[:2]) >= 1:\n",
    "        return print(str(int(s[:2])+12)+s[2:-2]+\"HRS\")\n",
    "\n",
    "\n",
    "    \n",
    "timeConversion(\"08:00:00PM\")"
   ]
  },
  {
   "cell_type": "markdown",
   "id": "210d305e",
   "metadata": {},
   "source": [
    "## Breaking records"
   ]
  },
  {
   "cell_type": "code",
   "execution_count": null,
   "id": "6edb11b3",
   "metadata": {},
   "outputs": [],
   "source": [
    "scores=[12,24,10,24]\n",
    "min=[]\n",
    "max=[]\n",
    "min.append(scores[0])\n",
    "max.append(scores[0])\n",
    "\n",
    "minimo=min[0] #12\n",
    "maximo=max[0] #12\n",
    "\n",
    "for value in scores:\n",
    "    #12\n",
    "    if value <= minimo:\n",
    "        minimo=value\n",
    "        min.append(minimo)\n",
    "        #print(min)\n",
    "    else:\n",
    "        min.append(minimo)\n",
    "    print(min[-4:])\n",
    "    \n",
    "    if value >= maximo:\n",
    "        maximo=value\n",
    "        max.append(maximo)\n",
    "    else:\n",
    "        max.append(maximo)\n",
    "        #print(max)\n",
    "    print(max[-4:])    \n"
   ]
  },
  {
   "cell_type": "code",
   "execution_count": null,
   "id": "0420a84f",
   "metadata": {},
   "outputs": [],
   "source": [
    "scores=[12,24,10,24,3,30]\n",
    "\n",
    "aux=scores[0] #12\n",
    "maximo=0\n",
    "\n",
    "min=[]\n",
    "max=[]\n",
    "\n",
    "for value in scores:\n",
    "    #24\n",
    "    if value == aux:   \n",
    "            \n",
    "        min.append(aux)\n",
    "        max.append(aux)\n",
    "    elif value < aux:\n",
    "        max.append(maximo)\n",
    "        aux=value\n",
    "        min.append(aux)\n",
    "    elif value > aux:\n",
    "        maximo=value\n",
    "        min.append(aux)\n",
    "        max.append(maximo)\n",
    "    \n",
    "print(min)\n",
    "print(max)\n",
    "\n",
    "result_min=[]\n",
    "result_max=[]\n",
    "        \n",
    "for i in range(len(min)):\n",
    "    cambio=min[0]\n",
    "    if cambio == min[i]:\n",
    "        result_min.append(0)\n",
    "    else:\n",
    "        result_min.append(1)\n",
    "\n",
    "for j in range(len(max)):\n",
    "    cambio_maximo=max[0]\n",
    "    if cambio_maximo == max[j]:\n",
    "        result_max.append(0)\n",
    "    else:\n",
    "        result_max.append(1)\n",
    "    \n",
    "print(result_min)\n",
    "print(result_max)"
   ]
  },
  {
   "cell_type": "code",
   "execution_count": null,
   "id": "6459de60",
   "metadata": {},
   "outputs": [],
   "source": [
    "array=[int(i) for i in \"17 45 41 60 17 41 76 43 51 40 89 92 34 6 64 7 37 81 32 50\".split(\" \")]\n",
    "\n",
    "aux=array[0]\n",
    "\n",
    "count_max=0\n",
    "count_min=0\n",
    "\n",
    "maximo= array[0]\n",
    "minimo= array[0]\n",
    "\n",
    "for i in range(len(array)):\n",
    "    #print(array[i])\n",
    "    if minimo > array[i]:\n",
    "        count_min=count_min+1\n",
    "        minimo=array[i] \n",
    "    elif maximo < array[i]:\n",
    "        count_max=count_max+1\n",
    "        maximo=array[i]\n",
    "\n",
    "\n",
    "record=[]        \n",
    "record.append(count_max)\n",
    "record.append(count_min)\n",
    "\n",
    "print(len(array))\n",
    "print(record)\n",
    "        \n",
    "        \n",
    "        \n",
    "        "
   ]
  },
  {
   "cell_type": "markdown",
   "id": "87eaa0c4",
   "metadata": {},
   "source": [
    "## Divisible Sum Pairs"
   ]
  },
  {
   "cell_type": "code",
   "execution_count": null,
   "id": "4b554809",
   "metadata": {
    "scrolled": true
   },
   "outputs": [],
   "source": [
    "ar=[1,3,2,6,1,2]\n",
    "\n",
    "n=6\n",
    "k=3\n",
    "\n",
    "count=0\n",
    "\n",
    "for i in range(len(ar)):\n",
    "    for j in range(i+1,len(ar)):\n",
    "        print((ar[i],ar[j]))\n",
    "        res=ar[i]+ar[j]\n",
    "        print(res)\n",
    "        div=res%k\n",
    "        str_div=str(div)\n",
    "        #print(str_div[2:])\n",
    "        if div == 0:\n",
    "            count=count+1\n",
    "\n",
    "print(count)\n",
    "            "
   ]
  },
  {
   "cell_type": "markdown",
   "id": "98b07d74",
   "metadata": {},
   "source": [
    "## Sparse array"
   ]
  },
  {
   "cell_type": "code",
   "execution_count": null,
   "id": "da051b02",
   "metadata": {},
   "outputs": [],
   "source": [
    "string=[\"ab\",\"ab\",\"abc\"]\n",
    "queries=[\"ab\", \"abc\", \"bc\"]\n",
    "\n",
    "res=[]\n",
    "\n",
    "for i in queries:\n",
    "    value=string.count(i)\n",
    "    #print(value)\n",
    "    res.append(value)\n",
    "print(res)\n",
    "        \n",
    "        "
   ]
  },
  {
   "cell_type": "code",
   "execution_count": null,
   "id": "4ccb4e39",
   "metadata": {},
   "outputs": [],
   "source": [
    "arr=[0,1,2,4,5,6,3,10,11]\n",
    "\n",
    "x=sorted(arr)\n",
    "print(x)\n",
    "print(len(x))\n",
    "\n",
    "res=len(x)/2\n",
    "num=res-0.5\n",
    "#indice=int(num)\n",
    "#print(int(num))\n",
    "\n",
    "median=x[int(num)]\n",
    "print(median)"
   ]
  },
  {
   "cell_type": "markdown",
   "id": "767f2c2e",
   "metadata": {},
   "source": [
    "## Camel Case\n",
    "\n",
    "- S= Split\n",
    "- C= Combine\n",
    "\n",
    "\n",
    "* M= Method   (starting with lowercase and add () )\n",
    "* C= Class    (starting with Capital Letter)\n",
    "* V= Variable (starting with lowercase)\n",
    "\n",
    "\n",
    "Input:\n",
    "\n",
    "- S;M;plasticCup()\n",
    "\n",
    "- C;V;mobile phone\n",
    "\n",
    "- C;C;coffee machine\n",
    "\n",
    "- S;C;LargeSoftwareBook\n",
    "\n",
    "- C;M;white sheet of paper\n",
    "\n",
    "- S;V;pictureFrame\n",
    "\n",
    "\n",
    "Output:\n",
    "\n",
    "- plastic cup\n",
    "\n",
    "- mobilePhone\n",
    "\n",
    "- CoffeeMachine\n",
    "\n",
    "- large software book\n",
    "\n",
    "- whiteSheetOfPaper()\n",
    "\n",
    "- picture frame"
   ]
  },
  {
   "cell_type": "code",
   "execution_count": null,
   "id": "737c1504",
   "metadata": {},
   "outputs": [],
   "source": [
    "string=\"S;M;plasticCup()\"\n",
    "\n",
    "#print(string[:1])\n",
    "#print(type(string.split()))\n",
    "\n",
    "if string[:4] == \"S;M;\":\n",
    "    print(\"Split & method()\")\n",
    "    \n",
    "    x=string[4:-2]\n",
    "    print(x)\n",
    "    print(len(x))\n",
    "    \n",
    "    \n",
    "    for i in range(len(x)):\n",
    "        print(i)\n",
    "        #letter=string[4:-2]\n",
    "        print(x[i]) #str\n",
    "        #print(letter.isupper())\n",
    "        \n",
    "        if x[i].isupper() == True:\n",
    "            print(i) #7\n",
    "            print(x[:i]+ \" \" +x[-(len(x)-i):]) #<-----------\n",
    "            print(\"jajaja Que hacemos aqui?\")\n",
    "            \n",
    "            \n",
    "        \n",
    "        \n",
    "\n",
    "    \n"
   ]
  },
  {
   "cell_type": "code",
   "execution_count": null,
   "id": "12f3d296",
   "metadata": {},
   "outputs": [],
   "source": [
    "texto=\"HuevosJamon\"\n",
    "\n",
    "#texto.append(\" \")\n",
    "\n",
    "print(texto[:6]+ \" \" +texto[6:])"
   ]
  },
  {
   "cell_type": "code",
   "execution_count": null,
   "id": "6572753f",
   "metadata": {},
   "outputs": [],
   "source": [
    "texto=\"cadenaDeOraciónParaLosSlice\"\n",
    "\n",
    "print(texto)\n",
    "\n",
    "print(texto[1:]) #Quita la primer letra al principio de la cadena\n",
    "print(texto[:1]) #Quita todo y solo deja la primer letra\n",
    "\n",
    "print(texto[-1:]) #Solo imprime la ultima letra del texto\n",
    "print(texto[:-1]) #Solo quita la ultima letra del texto"
   ]
  },
  {
   "cell_type": "markdown",
   "id": "eebbcd15",
   "metadata": {},
   "source": [
    "## LonelyInteger"
   ]
  },
  {
   "cell_type": "code",
   "execution_count": null,
   "id": "f0bf6bd5",
   "metadata": {},
   "outputs": [],
   "source": [
    "lista=[1,2,3,2,1]\n",
    "\n",
    "for i in lista:\n",
    "    #print(i)\n",
    "    #print(\"Este numero esta \",lista.count(i), \" veces\")\n",
    "    #lonely=lista.count(i)\n",
    "    \n",
    "    if lista.count(i) == 1:\n",
    "        print(i)\n",
    "\n",
    "#for i in range(len(lista)):\n",
    " #   print(i)"
   ]
  },
  {
   "cell_type": "markdown",
   "id": "704b2361",
   "metadata": {},
   "source": [
    "## Granding Students"
   ]
  },
  {
   "cell_type": "code",
   "execution_count": null,
   "id": "7712cd8e",
   "metadata": {},
   "outputs": [],
   "source": [
    "grades=[84, 29, 57, 83, 38]\n",
    "\n",
    "round_grades=[]\n",
    "\n",
    "list_grades=list(range(40, 101, 5))\n",
    "\n",
    "for grade in grades:\n",
    "    print(grade)\n",
    "    if grade < 35:\n",
    "        print(\"Reprobaste\")\n",
    "        round_grades.append(grade)\n",
    "        #print(round_grades)\n",
    "    elif grade >= 35:\n",
    "        print(\"Aprobaste\")\n",
    "        #round_grade=grade+1\n",
    "        if grade+1 in list_grades:\n",
    "            print(\"Esta en redondeo de 1\")\n",
    "            print(grade+1)\n",
    "            round_grades.append(grade+1)\n",
    "        elif grade+2 in list_grades:\n",
    "            print(\"Esta en redondeo de 2\")\n",
    "            print(grade+2)\n",
    "            round_grades.append(grade+2)\n",
    "        else:\n",
    "            round_grades.append(grade)\n",
    "\n",
    "print(round_grades)"
   ]
  },
  {
   "cell_type": "code",
   "execution_count": null,
   "id": "17762bc0",
   "metadata": {},
   "outputs": [],
   "source": [
    "list_grades=list(range(40, 101, 5))\n",
    "\n",
    "print(list_grades)"
   ]
  },
  {
   "cell_type": "markdown",
   "id": "e01f76b5",
   "metadata": {},
   "source": [
    "## Flipping bits"
   ]
  },
  {
   "cell_type": "code",
   "execution_count": null,
   "id": "921e534f",
   "metadata": {},
   "outputs": [],
   "source": [
    "numero=4\n",
    "\n",
    "#print(dir(numero))\n",
    "\n",
    "binary= bin(numero)\n",
    "\n",
    "binary_bit=binary[2:].zfill(32)\n",
    "\n",
    "flip_bit=\"\"\n",
    "\n",
    "print(binary_bit)\n",
    "\n",
    "for i in binary_bit:\n",
    "    #print(i)\n",
    "    if i == \"0\":\n",
    "        #print(\"Entró\")\n",
    "        flip_bit+=\"1\"\n",
    "    else:\n",
    "        flip_bit+=\"0\"\n",
    "\n",
    "print(flip_bit)\n",
    "\n",
    "\n",
    "print(int(flip_bit,2))\n",
    "\n"
   ]
  },
  {
   "cell_type": "markdown",
   "id": "d981dfa7",
   "metadata": {},
   "source": [
    "## Diagonal difference"
   ]
  },
  {
   "cell_type": "code",
   "execution_count": 3,
   "id": "ca5dcad3",
   "metadata": {},
   "outputs": [
    {
     "name": "stdout",
     "output_type": "stream",
     "text": [
      "[[1, 2, 3, 4], [4, 5, 6, 3], [9, 8, 9, 0], [9, 8, 9, 0]]\n",
      "[[4, 3, 2, 1], [3, 6, 5, 4], [0, 9, 8, 9], [0, 9, 8, 9]]\n",
      "15\n",
      "18\n",
      "3\n"
     ]
    }
   ],
   "source": [
    "arr=[[1,2,3,4],[4,5,6,3],[9,8,9,0],[9,8,9,0]]\n",
    "\n",
    "indices=range(3)\n",
    "#print(indices)\n",
    "first_diagonal=0\n",
    "second_diagonal=0\n",
    "\n",
    "#print(arr[0][0])\n",
    "\n",
    "for i in indices:\n",
    "    #print(i)\n",
    "    first_diagonal+=arr[i][i]\n",
    "\n",
    "print(arr)\n",
    "for i in arr:\n",
    "    i.reverse()\n",
    "print(arr)\n",
    "\n",
    "for j in indices:\n",
    "    second_diagonal+=arr[j][j]\n",
    "\n",
    "print(first_diagonal)\n",
    "print(second_diagonal)\n",
    "\n",
    "resultado=first_diagonal-second_diagonal\n",
    "print(abs(resultado))"
   ]
  },
  {
   "cell_type": "code",
   "execution_count": null,
   "id": "057ce39d",
   "metadata": {},
   "outputs": [],
   "source": [
    "indices=list(range(3))\n",
    "print(indices)\n",
    "indices.reverse()\n",
    "print(indices)\n",
    "for z in indices:\n",
    "    print(z)"
   ]
  },
  {
   "cell_type": "code",
   "execution_count": 4,
   "id": "87c1a43d",
   "metadata": {},
   "outputs": [
    {
     "name": "stdout",
     "output_type": "stream",
     "text": [
      "12\n"
     ]
    }
   ],
   "source": [
    "arr=[[1,2,3,4],[4,5,6,3],[9,8,9,0],[9,8,9,0]]\n",
    "suma=0\n",
    "for i in range(len(arr)):\n",
    "    for j in range(len(arr[0])):\n",
    "        if i==j:\n",
    "            suma+=arr[i][j]\n",
    "        if i+j==len(arr)-1:\n",
    "            suma-=arr[i][j]\n",
    "print(abs(suma))"
   ]
  },
  {
   "cell_type": "code",
   "execution_count": null,
   "id": "c9ff9d8a",
   "metadata": {},
   "outputs": [],
   "source": [
    "import random\n",
    "\n",
    "#print(random.randint(0, 10))\n",
    "\n",
    "arr=[]\n",
    "count_arr=[]\n",
    "\n",
    "while len(arr) < 100:\n",
    "    arr.append(random.randint(0, 99))\n",
    "    \n",
    "#arr.sort()\n",
    "print(arr)\n",
    "\n",
    "for i in range(len(arr)):\n",
    "    #print(i)\n",
    "    #print(arr.count(i))\n",
    "    count_arr.append(arr.count(i))\n",
    "\n",
    "print(count_arr)"
   ]
  },
  {
   "cell_type": "code",
   "execution_count": null,
   "id": "454ddfef",
   "metadata": {},
   "outputs": [],
   "source": [
    "arr=[0,1,0,1,2,98]\n",
    "arr.sort()\n",
    "count_arr=[]\n",
    "\n",
    "print(arr)\n",
    "print(max(arr))\n",
    "\n",
    "print(\"Numero\",100-max(arr))\n",
    "numero=100-max(arr)\n",
    "\n",
    "for i in range(max(arr)+numero):#recorro por indices\n",
    "    #print(i)\n",
    "    #print(arr.count(i))\n",
    "    count_arr.append(arr.count(i))\n",
    "\n",
    "print(count_arr)\n",
    "\n",
    "#for value in arr:\n",
    "    #print(value)\n",
    "    #print(arr.count(i))\n",
    " #   count_arr.append(arr.count(i))\n",
    "\n",
    "#print(count_arr)"
   ]
  },
  {
   "cell_type": "code",
   "execution_count": null,
   "id": "898336c3",
   "metadata": {},
   "outputs": [],
   "source": [
    "for i in arr:#recorro por valores\n",
    "    print((arr.index(i),i,arr.count(i)))"
   ]
  },
  {
   "cell_type": "code",
   "execution_count": null,
   "id": "91dbff7e",
   "metadata": {},
   "outputs": [],
   "source": [
    "max(arr)"
   ]
  },
  {
   "cell_type": "markdown",
   "id": "d60bad75",
   "metadata": {},
   "source": [
    "## Counting Valleys"
   ]
  },
  {
   "cell_type": "code",
   "execution_count": null,
   "id": "68acdba2",
   "metadata": {},
   "outputs": [],
   "source": [
    "#steps=\"UDDDUDUU\"\n",
    "\n",
    "D=4\n",
    "U=4\n",
    "res=1\n",
    "\n"
   ]
  },
  {
   "cell_type": "markdown",
   "id": "feee15bc",
   "metadata": {},
   "source": [
    "_/\\      _\n",
    "   \\    /\n",
    "    \\/\\/\n",
    "    \n"
   ]
  },
  {
   "cell_type": "code",
   "execution_count": null,
   "id": "285eef60",
   "metadata": {},
   "outputs": [],
   "source": [
    "+1+1+1+1\n",
    "-1-1-1-1"
   ]
  },
  {
   "cell_type": "code",
   "execution_count": null,
   "id": "27ef1e18",
   "metadata": {},
   "outputs": [],
   "source": [
    "#print(len(steps))\n",
    "\n",
    "#count_positive=0\n",
    "#count_negative=0\n",
    "\n",
    "steps=\"DDUDUDUU\"\n",
    "\n",
    "count=0\n",
    "count_valleys=0\n",
    "\n",
    "for step in steps:\n",
    "    print(step)\n",
    "    if step == \"U\" :\n",
    "        count+=1\n",
    "        if count == 0:\n",
    "            count_valleys+=1\n",
    "    elif step == \"D\":\n",
    "        count-=1\n",
    "        \n",
    "print(count_valleys)\n",
    "    \n"
   ]
  },
  {
   "cell_type": "markdown",
   "id": "a3166e25",
   "metadata": {},
   "source": [
    "## Pangram"
   ]
  },
  {
   "cell_type": "code",
   "execution_count": null,
   "id": "b23a24cb",
   "metadata": {},
   "outputs": [],
   "source": [
    "s=\"We promptly judged antique ivory buckles for the next prize\"\n",
    "\n",
    "\n",
    "abecedario=\"abcdefghijklmnopqrstuvwxyz\"\n",
    "\n",
    "for i in abecedario:\n",
    "    #print(i)\n",
    "    if i in s.lower():\n",
    "        if i == \"z\":\n",
    "            print(\"PANGRAM\")\n",
    "    elif i not in s:\n",
    "        print(\"NO ES PANGRAMA\")\n",
    "        break"
   ]
  },
  {
   "cell_type": "markdown",
   "id": "c2de6e2b",
   "metadata": {},
   "source": [
    "## Mars Exploration"
   ]
  },
  {
   "cell_type": "code",
   "execution_count": null,
   "id": "6dc58a66",
   "metadata": {},
   "outputs": [],
   "source": [
    "s=\"SOSOOSOSOSOSOSSOSOSOSOSOSOS\"\n",
    "message=\"SOS\"\n",
    "\n",
    "print(\"¿Cuantos SOS tiene?\",int(len(s)/len(message)))\n",
    "\n",
    "#print(s.count(\"O\"))\n",
    "\n",
    "#print(message.count(\"S\"))\n",
    "#print(s.count(\"S\"))\n",
    "\n",
    "#print(\"Faltan\",int(len(s)/len(message) - s.count(\"O\")) ,\"Os\")\n",
    "miss_O=int(len(s)/len(message) - s.count(\"O\"))\n",
    "\n",
    "#print(\"Faltan\", int(len(s)/len(message)) * message.count(\"S\") - s.count(\"S\"), \"Ss\" )\n",
    "miss_S=int(len(s)/len(message)) * message.count(\"S\") - s.count(\"S\")\n",
    "\n",
    "res=miss_O+miss_S\n",
    "\n",
    "print(res)"
   ]
  },
  {
   "cell_type": "code",
   "execution_count": null,
   "id": "4b4bc0e7",
   "metadata": {},
   "outputs": [],
   "source": [
    "s=\"SOSOOSOSOSOSOSSOSOSOSOSOSOS\"\n",
    "message=\"SOS\"\n",
    "\n",
    "izquierda=0\n",
    "derecha=3\n",
    "\n",
    "wrong_word=0\n",
    "\n",
    "while izquierda <= len(s)-1:\n",
    "    #print(list(s[izquierda:derecha]))\n",
    "    lista=list(s[izquierda:derecha])\n",
    "    print(lista)\n",
    "    izquierda+=3\n",
    "    derecha+=3\n",
    "    if lista[0] != \"S\":\n",
    "        wrong_word+=1\n",
    "    if lista[1] != \"O\":\n",
    "        wrong_word+=1\n",
    "    if lista[2] != \"S\":\n",
    "        wrong_word+=1\n",
    "print(wrong_word)\n",
    "    \n",
    "    \n"
   ]
  },
  {
   "cell_type": "code",
   "execution_count": null,
   "id": "109f49cc",
   "metadata": {},
   "outputs": [],
   "source": [
    "abecedario=\"abcdefghijklmnopqrstuvwxyz\"\n",
    "\n",
    "#print(len(abecedario))\n",
    "#print(abecedario[0:3])\n",
    "\n",
    "indices=list(range(0,len(abecedario)))\n",
    "\n",
    "izquierda=0\n",
    "derecha=3\n",
    "\n",
    "while izquierda <= len(abecedario):\n",
    "    print(list(abecedario[izquierda:derecha]))\n",
    "    izquierda+=3\n",
    "    derecha+=3\n",
    "    \n",
    "    "
   ]
  },
  {
   "cell_type": "code",
   "execution_count": null,
   "id": "ab060dbf",
   "metadata": {},
   "outputs": [],
   "source": [
    "string=\"abcabc\"\n",
    "\n",
    "for letter in string:\n",
    "    print(letter)\n",
    "    if letter != \"a\":\n",
    "        print(\"Diferente de A\")\n",
    "    if letter != \"b\":\n",
    "        print(\"Diferente de B\")"
   ]
  },
  {
   "cell_type": "markdown",
   "id": "30af47db",
   "metadata": {},
   "source": [
    "## FizzBuzz\n",
    "\n",
    "Intentar cambiar la columna 3 (reverse())"
   ]
  },
  {
   "cell_type": "code",
   "execution_count": null,
   "id": "da389900",
   "metadata": {},
   "outputs": [],
   "source": [
    "matrix = [[112, 42, 83, 119], [56, 125, 56, 49],[15, 78, 101, 43], [62, 98, 114, 108]]\n",
    "\n",
    "#Intentar cambiar la columna 3 como se muestra en las celdas de abajo\n"
   ]
  },
  {
   "cell_type": "code",
   "execution_count": null,
   "id": "be66cd69",
   "metadata": {},
   "outputs": [],
   "source": [
    "[112, 42, 83,119]\n",
    "[56, 125, 56, 49]\n",
    "[15, 78, 101, 43]\n",
    "[62, 98, 114, 108]\n"
   ]
  },
  {
   "cell_type": "code",
   "execution_count": null,
   "id": "0b94cc5e",
   "metadata": {},
   "outputs": [],
   "source": [
    "matrix[0][2]=114\n",
    "matrix[1][2]=101\n",
    "matrix[2][2]=56\n",
    "matrix[3][2]=83\n",
    "print(matrix)"
   ]
  },
  {
   "cell_type": "code",
   "execution_count": null,
   "id": "6e116bbd",
   "metadata": {},
   "outputs": [],
   "source": [
    "[112, 42, 114,119]\n",
    "[56, 125, 101, 49]\n",
    "[15, 78, 56, 43]\n",
    "[62, 98, 83, 108]"
   ]
  },
  {
   "cell_type": "code",
   "execution_count": null,
   "id": "609e6cb6",
   "metadata": {},
   "outputs": [],
   "source": [
    "aux=0\n",
    "\n",
    "nlist=[i[2] for i in matrix]\n",
    "nlist.reverse()\n",
    "\n",
    "for i in range(len(matrix)):\n",
    "    matrix[i][2]=nlist[i]\n",
    "print(matrix)\n",
    "    #for j in i:\n",
    "     #   print(j)"
   ]
  },
  {
   "cell_type": "markdown",
   "id": "ef9de95c",
   "metadata": {},
   "source": [
    "## Sales by match"
   ]
  },
  {
   "cell_type": "code",
   "execution_count": null,
   "id": "dd6be908",
   "metadata": {},
   "outputs": [],
   "source": [
    "ar = [10, 20, 20, 10, 10, 30, 50, 10, 20]\n",
    "\n",
    "count=0\n",
    "aux=0\n",
    "\n",
    "for i in set(ar):\n",
    "    aux=ar.count(i)\n",
    "    count+=int(aux/2)\n",
    "    \n",
    "print(count)"
   ]
  },
  {
   "cell_type": "code",
   "execution_count": null,
   "id": "600c021d",
   "metadata": {},
   "outputs": [],
   "source": [
    "ar = [10, 20, 20, 10, 10, 30, 50, 10, 20]\n",
    "arr=[]\n",
    "cont=0\n",
    "\n",
    "for i in range(len(ar)):\n",
    "    if ar[i] not in arr:\n",
    "        cont+=int(ar.count(ar[i])/2)\n",
    "        arr.append(ar[i])\n",
    "    \n",
    "print(cont)"
   ]
  },
  {
   "cell_type": "code",
   "execution_count": null,
   "id": "bbfa8602",
   "metadata": {},
   "outputs": [],
   "source": [
    "int(4/2)"
   ]
  },
  {
   "cell_type": "code",
   "execution_count": null,
   "id": "2af6e5f1",
   "metadata": {},
   "outputs": [],
   "source": [
    "ar = [10, 20, 20, 10, 10, 30, 50, 10, 20]\n",
    "\n",
    "print(sum([int(ar.count(i)/2) for i in set(ar)]))\n",
    "#print(sum(aux))\n",
    "    "
   ]
  },
  {
   "cell_type": "code",
   "execution_count": null,
   "id": "39bb4e7c",
   "metadata": {},
   "outputs": [],
   "source": [
    "ar = [10, 20, 20, 10, 10, 30, 50, 10, 20]\n",
    "\n",
    "aux=[10,20,30]\n",
    "suma=[3,2,1]\n",
    "for i in ar:\n",
    "    if i not in aux:\n",
    "        aux.append(i)\n",
    "        suma.append(0)\n",
    "    suma[aux.index(i)]+=1\n",
    "\n",
    "print(sum([int(s/2) for s in suma]))\n",
    "        \n"
   ]
  },
  {
   "cell_type": "markdown",
   "id": "cc3adda9",
   "metadata": {},
   "source": [
    "## Permuting two arrays"
   ]
  },
  {
   "cell_type": "code",
   "execution_count": null,
   "id": "503c34e3",
   "metadata": {},
   "outputs": [],
   "source": [
    "a=[1,2,3]\n",
    "b=[9,8,7]\n",
    "\n",
    "aux=0\n",
    "\n",
    "while aux <= len(a)-1:\n",
    "    #print(aux)\n",
    "    res=a[aux]+b[aux]\n",
    "    print(res)\n",
    "    aux+=1\n",
    "\n"
   ]
  },
  {
   "cell_type": "code",
   "execution_count": null,
   "id": "a228b66d",
   "metadata": {},
   "outputs": [],
   "source": [
    "for i in a:\n",
    "    print(i)\n",
    "    for j in b:\n",
    "        print(j)\n",
    "        print(\"1+9\", i+j)"
   ]
  },
  {
   "cell_type": "markdown",
   "id": "452ba2f1",
   "metadata": {},
   "source": [
    "## Migratory birds"
   ]
  },
  {
   "cell_type": "code",
   "execution_count": 16,
   "id": "58bc0df6",
   "metadata": {},
   "outputs": [
    {
     "name": "stdout",
     "output_type": "stream",
     "text": [
      "[1, 1, 1, 2, 2, 3]\n",
      "Tipos de aves [1, 2, 3]\n",
      "Conteo de tipos de aves [3, 2, 1]\n",
      "Maximo de aves 3 ¿Como devuelvo el tipo de ave?\n",
      "3 2\n",
      "3 1\n",
      "2 1\n"
     ]
    }
   ],
   "source": [
    "birds=[1,1,2,2,3,1]\n",
    "birds.sort()\n",
    "print(birds)\n",
    "set_birds=list(set(birds))\n",
    "print(\"Tipos de aves\", set_birds)\n",
    "#print(min(birds))\n",
    "\n",
    "avis=[]\n",
    "\n",
    "for bird in set_birds:\n",
    "    #print(bird)\n",
    "    #print(birds.count(bird))\n",
    "    avis.append(birds.count(bird))\n",
    "print(\"Conteo de tipos de aves\", avis)\n",
    "max_b=max(avis)\n",
    "print(\"Maximo de aves\", max_b , \"¿Como devuelvo el tipo de ave?\")\n",
    "    \n",
    "for i in range(len(avis)):\n",
    "    #print(\"i\",i)\n",
    "    for j in range(i+1, len(avis)):\n",
    "        print(avis[i], avis[j])\n",
    "        if avis[i] == avis[j]:\n",
    "            print(\"Ya chingaste!, Ahora como devuelvo el tipo de ave? xD \")\n",
    "            \n",
    "\n",
    "for i in avis:\n",
    "    if i == max_b:\n",
    "        pos=avis.index(i)\n",
    "        break\n",
    "\n",
    "    \n",
    "\n",
    "#for i in range(len(set_birds)):\n",
    "    #print(set_birds[i])\n",
    "    #print(birds.count(birds[i]))\n",
    "    "
   ]
  },
  {
   "cell_type": "code",
   "execution_count": null,
   "id": "5feb2b13",
   "metadata": {},
   "outputs": [],
   "source": [
    "lista=[1,2,3,4,5]\n",
    "\n",
    "for i in range(len(lista)):\n",
    "    #print(\"i\",i)\n",
    "    for j in range(i+1,len(lista)):\n",
    "        print(lista[i],lista[j])"
   ]
  },
  {
   "cell_type": "code",
   "execution_count": 1,
   "id": "439e9ddd",
   "metadata": {},
   "outputs": [
    {
     "name": "stdout",
     "output_type": "stream",
     "text": [
      "66\n"
     ]
    }
   ],
   "source": [
    "lista=[1,2,3,4,5,66]\n",
    "print(max(lista))"
   ]
  },
  {
   "cell_type": "markdown",
   "id": "2efd7ab1",
   "metadata": {},
   "source": [
    "## Subarray Division 2"
   ]
  },
  {
   "cell_type": "code",
   "execution_count": 44,
   "id": "641b6bf3",
   "metadata": {},
   "outputs": [
    {
     "name": "stdout",
     "output_type": "stream",
     "text": [
      "19\n",
      "Contador 0\n"
     ]
    }
   ],
   "source": [
    "array=[2,5,1,3,4,4,3,5,1,1,2,1,4,1,3,3,4,2,1]\n",
    "\n",
    "\n",
    "day=18\n",
    "month=7\n",
    "counter=0\n",
    "\n",
    "print(len(array))\n",
    "if len(array) > 1:\n",
    "    for i in range(len(array)-1):\n",
    "    #print(array[i], array[i+1])\n",
    "        if month > 1:\n",
    "            if array[i]+array[i+1] == day:\n",
    "                print(\"Estamos dentro\")\n",
    "                counter+=1\n",
    "elif array[0] == day:\n",
    "    counter+=1\n",
    "        \n",
    "print(\"Contador\",counter)"
   ]
  },
  {
   "cell_type": "code",
   "execution_count": 21,
   "id": "7ec0fe03",
   "metadata": {},
   "outputs": [
    {
     "name": "stdout",
     "output_type": "stream",
     "text": [
      "0 1\n",
      "1 2\n",
      "2 3\n",
      "3 4\n"
     ]
    }
   ],
   "source": [
    "for i in range(len(array)):\n",
    "    #print(i)\n",
    "    for j in range(i+1,len(array),len(array)):\n",
    "        print(i,j)"
   ]
  },
  {
   "cell_type": "code",
   "execution_count": 77,
   "id": "a1469ffc",
   "metadata": {},
   "outputs": [
    {
     "name": "stdout",
     "output_type": "stream",
     "text": [
      "19\n",
      "[2, 5, 1, 3, 4, 4, 3]\n",
      "22\n",
      "[5, 1, 3, 4, 4, 3, 5]\n",
      "25\n",
      "[1, 3, 4, 4, 3, 5, 1]\n",
      "21\n",
      "[3, 4, 4, 3, 5, 1, 1]\n",
      "21\n",
      "[4, 4, 3, 5, 1, 1, 2]\n",
      "20\n",
      "[4, 3, 5, 1, 1, 2, 1]\n",
      "17\n",
      "[3, 5, 1, 1, 2, 1, 4]\n",
      "17\n",
      "[5, 1, 1, 2, 1, 4, 1]\n",
      "15\n",
      "[1, 1, 2, 1, 4, 1, 3]\n",
      "13\n",
      "[1, 2, 1, 4, 1, 3, 3]\n",
      "15\n",
      "[2, 1, 4, 1, 3, 3, 4]\n",
      "18\n",
      "[1, 4, 1, 3, 3, 4, 2]\n",
      "18\n",
      "[4, 1, 3, 3, 4, 2, 1]\n",
      "18\n",
      "CUENTA: 3\n"
     ]
    }
   ],
   "source": [
    "array=[2,5,1,3,4,4,3,5,1,1,2,1,4,1,3,3,4,2,1]\n",
    "day=18\n",
    "month=7\n",
    "print(len(array))\n",
    "#print(array[0:7])\n",
    "\n",
    "cuenta=0\n",
    "\n",
    "if len(array) > 1:\n",
    "    for i in range(len(array)-(month-1)):\n",
    "        print(array[i:i+7])\n",
    "        print(sum(array[i:i+7]))\n",
    "        if sum(array[i:i+month]) == day:\n",
    "            cuenta+=1\n",
    "elif array[0] == day:\n",
    "    cuenta+=1\n",
    "print(\"CUENTA:\",cuenta)\n"
   ]
  },
  {
   "cell_type": "code",
   "execution_count": 73,
   "id": "6967f482",
   "metadata": {},
   "outputs": [
    {
     "name": "stdout",
     "output_type": "stream",
     "text": [
      "0\n",
      "1\n",
      "2\n",
      "3\n",
      "4\n",
      "5\n",
      "6\n",
      "7\n",
      "8\n",
      "9\n",
      "10\n",
      "11\n",
      "12\n"
     ]
    }
   ],
   "source": [
    "for i in range(13):\n",
    "    print(i)"
   ]
  },
  {
   "cell_type": "code",
   "execution_count": 118,
   "id": "e79e6385",
   "metadata": {},
   "outputs": [
    {
     "name": "stdout",
     "output_type": "stream",
     "text": [
      "1\n",
      "La longitud del arreglo es par\n",
      "[3]\n",
      "[3, 3]\n",
      "2\n",
      "La longitud del arreglo es par\n",
      "[3, 3, 3]\n",
      "[3, 3, 3, 3]\n",
      "3\n",
      "La longitud del arreglo es par\n",
      "[3, 3, 3, 3, 3]\n",
      "[3, 3, 3, 3, 3, 3]\n",
      "4\n",
      "La longitud del arreglo es par\n",
      "[3, 3, 3, 3, 3, 3, 3]\n",
      "[3, 3, 3, 3, 3, 3, 3, 3]\n",
      "5\n",
      "La longitud del arreglo es par\n",
      "[3, 3, 3, 3, 3, 3, 3, 3, 3]\n",
      "[3, 3, 3, 3, 3, 3, 3, 3, 3, 3]\n",
      "6\n",
      "La longitud del arreglo es par\n",
      "[3, 3, 3, 3, 3, 3, 3, 3, 3, 3, 3]\n",
      "[3, 3, 3, 3, 3, 3, 3, 3, 3, 3, 3, 3]\n"
     ]
    }
   ],
   "source": [
    "def second_exercise(arreglo):\n",
    "    odd_list=[]\n",
    "    even_list=[]\n",
    "    \n",
    "    for i in range(len(arreglo)):\n",
    "        print(arreglo[i])\n",
    "        if len(arreglo)%2 == 0:\n",
    "            print(\"La longitud del arreglo es par\")\n",
    "            indices=int(len(arreglo)/2)-1\n",
    "            even_list.append(arreglo[indices])\n",
    "            print(even_list)\n",
    "            if len(even_list)%2 != 0:\n",
    "                indices+=1\n",
    "                even_list.append(indices)\n",
    "                print(even_list)\n",
    "            #for j in range(len(arreglo)):\n",
    "             #   print(j)\n",
    "              #  break\n",
    "        elif len(arreglo)%2 !=0:\n",
    "            print(\"Es impar\")\n",
    "\n",
    "    \n",
    "    \n",
    "second_exercise([1,2,3,4,5,6])\n",
    "\n",
    "\n"
   ]
  },
  {
   "cell_type": "code",
   "execution_count": 115,
   "id": "421e27ca",
   "metadata": {},
   "outputs": [
    {
     "name": "stdout",
     "output_type": "stream",
     "text": [
      "0\n",
      "1\n",
      "2\n"
     ]
    }
   ],
   "source": [
    "l=[1,2,3]\n",
    "\n",
    "for k in range(len(l)):\n",
    "    print(k)"
   ]
  },
  {
   "cell_type": "code",
   "execution_count": 117,
   "id": "35ec8749",
   "metadata": {},
   "outputs": [
    {
     "data": {
      "text/plain": [
       "1"
      ]
     },
     "execution_count": 117,
     "metadata": {},
     "output_type": "execute_result"
    }
   ],
   "source": [
    "1%2"
   ]
  },
  {
   "cell_type": "code",
   "execution_count": 28,
   "id": "08e13a76",
   "metadata": {},
   "outputs": [
    {
     "name": "stdout",
     "output_type": "stream",
     "text": [
      "[4, 5, 6, 7]\n",
      "[3, 2, 1]\n",
      "[4, 3, 5, 2, 6, 1]\n"
     ]
    }
   ],
   "source": [
    "arr=[1,2,3,4,5,6,7]\n",
    "#impares\n",
    "\n",
    "lista_derecha=[]\n",
    "lista_izquierda=[]\n",
    "\n",
    "\n",
    "centro=int(len(arr)/2)\n",
    "\n",
    "lista_derecha.append(arr[centro:])\n",
    "lista_izquierda.append(arr[:centro])\n",
    "\n",
    "print(lista_derecha[0])\n",
    "#print(lista_izquierda[0])\n",
    "\n",
    "lista_izquierda_r=lista_izquierda[0]\n",
    "lista_izquierda_r.reverse()\n",
    "print(lista_izquierda_r)\n",
    "\n",
    "lista_o=[]\n",
    "\n",
    "for i in range(len(lista_izquierda_r)): #[3,4]\n",
    "    lista_o.append(lista_derecha[0][i])\n",
    "    lista_o.append(lista_izquierda_r[i])\n",
    "print(lista_o)\n"
   ]
  },
  {
   "cell_type": "code",
   "execution_count": 170,
   "id": "552b80f4",
   "metadata": {},
   "outputs": [
    {
     "name": "stdout",
     "output_type": "stream",
     "text": [
      "0\n",
      "[1, 2, 3]\n",
      "1\n"
     ]
    },
    {
     "ename": "IndexError",
     "evalue": "list index out of range",
     "output_type": "error",
     "traceback": [
      "\u001b[1;31m---------------------------------------------------------------------------\u001b[0m",
      "\u001b[1;31mIndexError\u001b[0m                                Traceback (most recent call last)",
      "Input \u001b[1;32mIn [170]\u001b[0m, in \u001b[0;36m<cell line: 5>\u001b[1;34m()\u001b[0m\n\u001b[0;32m      5\u001b[0m \u001b[38;5;28;01mfor\u001b[39;00m i \u001b[38;5;129;01min\u001b[39;00m \u001b[38;5;28mrange\u001b[39m(\u001b[38;5;28mlen\u001b[39m(new_list)):\n\u001b[0;32m      6\u001b[0m     \u001b[38;5;28mprint\u001b[39m(i)\n\u001b[1;32m----> 7\u001b[0m     a_list\u001b[38;5;241m.\u001b[39mappend(\u001b[43mlista\u001b[49m\u001b[43m[\u001b[49m\u001b[43mi\u001b[49m\u001b[43m]\u001b[49m)\n\u001b[0;32m      9\u001b[0m     \u001b[38;5;28mprint\u001b[39m(new_list)\n",
      "\u001b[1;31mIndexError\u001b[0m: list index out of range"
     ]
    }
   ],
   "source": [
    "lista=[[1,2,3]]\n",
    "new_list=lista[0]\n",
    "a_list=[]\n",
    "\n",
    "for i in range(len(new_list)):\n",
    "    print(i)\n",
    "    a_list.append(lista[i])\n",
    "    \n",
    "    print(new_list)\n",
    "    "
   ]
  },
  {
   "cell_type": "code",
   "execution_count": null,
   "id": "d78f86d5",
   "metadata": {},
   "outputs": [],
   "source": []
  },
  {
   "cell_type": "code",
   "execution_count": 129,
   "id": "c3d8c43e",
   "metadata": {},
   "outputs": [
    {
     "data": {
      "text/plain": [
       "[0, 1, 2, 3]"
      ]
     },
     "execution_count": 129,
     "metadata": {},
     "output_type": "execute_result"
    }
   ],
   "source": [
    "o=list(range(4))\n",
    "print(o)"
   ]
  },
  {
   "cell_type": "code",
   "execution_count": 130,
   "id": "fb3c5867",
   "metadata": {},
   "outputs": [
    {
     "name": "stdout",
     "output_type": "stream",
     "text": [
      "[0, 1, 2, 3]\n"
     ]
    }
   ],
   "source": [
    "l=[]\n",
    "for i in range(4):\n",
    "    l.append(i)\n",
    "print(l)"
   ]
  },
  {
   "cell_type": "code",
   "execution_count": 132,
   "id": "7d963169",
   "metadata": {},
   "outputs": [
    {
     "name": "stdout",
     "output_type": "stream",
     "text": [
      "[0, 1, 2, 3]\n"
     ]
    }
   ],
   "source": [
    "m=[i for i in range(4)]\n",
    "print(m)"
   ]
  },
  {
   "cell_type": "code",
   "execution_count": 133,
   "id": "018d2ab8",
   "metadata": {},
   "outputs": [
    {
     "name": "stdout",
     "output_type": "stream",
     "text": [
      "[0, 1, 2, 3]\n"
     ]
    }
   ],
   "source": [
    "n=[]\n",
    "i=0\n",
    "while(i<4):\n",
    "    n.append(i)\n",
    "    i=i+1\n",
    "print(n)"
   ]
  },
  {
   "cell_type": "code",
   "execution_count": 135,
   "id": "62f8d050",
   "metadata": {},
   "outputs": [
    {
     "name": "stdout",
     "output_type": "stream",
     "text": [
      "[0, 1, 2, 3]\n"
     ]
    }
   ],
   "source": [
    "p=list(range(10))[:4]\n",
    "print(p)"
   ]
  },
  {
   "cell_type": "code",
   "execution_count": 158,
   "id": "251c169e",
   "metadata": {},
   "outputs": [
    {
     "data": {
      "text/plain": [
       "[2, 1]"
      ]
     },
     "execution_count": 158,
     "metadata": {},
     "output_type": "execute_result"
    }
   ],
   "source": [
    "arr[centro-1::-1]"
   ]
  },
  {
   "cell_type": "markdown",
   "id": "78f761e7",
   "metadata": {},
   "source": [
    "## First Exercise"
   ]
  },
  {
   "cell_type": "code",
   "execution_count": 200,
   "id": "08cdbfb6",
   "metadata": {},
   "outputs": [
    {
     "name": "stdout",
     "output_type": "stream",
     "text": [
      "0\n",
      "1\n",
      "2\n",
      "3\n",
      "4\n",
      "5\n",
      "6\n",
      "[5, 7, 8, 1, 7, 3, 9]\n"
     ]
    }
   ],
   "source": [
    "arr=[1,7,3,9,5,7,8]\n",
    "   #[0,1,2,3,4]\n",
    "\n",
    "movimiento=4\n",
    "\n",
    "new_list=[]\n",
    "\n",
    "if movimiento == 0:\n",
    "    print(arr)\n",
    "elif movimiento > 0:\n",
    "    #print(arr.index(movimiento))\n",
    "    for i in range(len(arr)):\n",
    "        print(i)\n",
    "        if i >= movimiento:\n",
    "            #print(\"Estamos dentro\")\n",
    "            new_list.append(arr[i])\n",
    "    for j in range(movimiento):\n",
    "        new_list.append(arr[j])\n",
    "#elif movimiento < 0:\n",
    "    \n",
    "    \n",
    "    \n",
    "    \n",
    "    \n",
    "print(new_list)\n",
    "        \n",
    "    \n",
    "\n"
   ]
  },
  {
   "cell_type": "code",
   "execution_count": 42,
   "id": "389b115d",
   "metadata": {},
   "outputs": [
    {
     "name": "stdout",
     "output_type": "stream",
     "text": [
      "[1, 2]\n",
      "[3, 4, 5, 1, 2]\n"
     ]
    }
   ],
   "source": [
    "arr=[1,2,3,4,5]\n",
    "   #[0,1,2,3,4]\n",
    "    \n",
    "movimiento=3\n",
    "\n",
    "new_list=[]\n",
    "\n",
    "print(arr[:2])\n",
    "new_list=arr[movimiento-1:]+arr[:movimiento-1]\n",
    "\n",
    "print(new_list)\n",
    "\n",
    "\n",
    "#for i in range(movimiento-1):\n",
    " #   print(arr[i])\n",
    "  #  new_list[0].append(arr[i])\n",
    "#print(new_list[0])\n",
    "\n",
    "\n"
   ]
  },
  {
   "cell_type": "code",
   "execution_count": 226,
   "id": "8aedfaf4",
   "metadata": {},
   "outputs": [
    {
     "data": {
      "text/plain": [
       "2"
      ]
     },
     "execution_count": 226,
     "metadata": {},
     "output_type": "execute_result"
    }
   ],
   "source": [
    "len(arr)-3"
   ]
  },
  {
   "cell_type": "code",
   "execution_count": 45,
   "id": "345cbdfa",
   "metadata": {},
   "outputs": [
    {
     "name": "stdout",
     "output_type": "stream",
     "text": [
      "[1, 2, 3, 4, 5]\n"
     ]
    }
   ],
   "source": [
    "ar=[1,2,3]\n",
    "ar2=[4,5]\n",
    "\n",
    "l=ar+ar2\n",
    "print(l)"
   ]
  },
  {
   "cell_type": "code",
   "execution_count": 72,
   "id": "b2555388",
   "metadata": {},
   "outputs": [
    {
     "name": "stdout",
     "output_type": "stream",
     "text": [
      "[2, 3, 4, 5, 1]\n"
     ]
    }
   ],
   "source": [
    "arr=[1,2,3,4,5]\n",
    "   #[0,1,2,3,4]\n",
    "    \n",
    "movimiento=-4%len(arr)\n",
    "\n",
    "new_list=arr[movimiento:]+arr[:movimiento]\n",
    "\n",
    "print(new_list)"
   ]
  },
  {
   "cell_type": "code",
   "execution_count": 103,
   "id": "a4c3165e",
   "metadata": {},
   "outputs": [],
   "source": [
    "def Fibo(n):\n",
    "    if n<2:\n",
    "        return 1\n",
    "    return Fibo(n-1)+Fibo(n-2)\n",
    "\n",
    "def burbuja(arr):\n",
    "    for i in range(len(arr)):\n",
    "        for j in range(1,len(arr)-i):\n",
    "            #print((j,j+1))\n",
    "            if arr[j-1]>arr[j]:\n",
    "                aux=arr[j-1]\n",
    "                arr[j-1]=arr[j]\n",
    "                arr[j]=aux\n",
    "    return arr\n",
    "\n",
    "def burbuja_trap(arr):\n",
    "    arr.sort()\n",
    "    return arr"
   ]
  },
  {
   "cell_type": "code",
   "execution_count": 104,
   "id": "f9f59fe4",
   "metadata": {},
   "outputs": [
    {
     "data": {
      "text/plain": [
       "[-1, 1, 2, 4, 13, 42]"
      ]
     },
     "execution_count": 104,
     "metadata": {},
     "output_type": "execute_result"
    }
   ],
   "source": [
    "burbuja([2,42,13,4,-1,1])"
   ]
  },
  {
   "cell_type": "code",
   "execution_count": null,
   "id": "55c7fb8b",
   "metadata": {},
   "outputs": [],
   "source": []
  }
 ],
 "metadata": {
  "kernelspec": {
   "display_name": "Python 3 (ipykernel)",
   "language": "python",
   "name": "python3"
  },
  "language_info": {
   "codemirror_mode": {
    "name": "ipython",
    "version": 3
   },
   "file_extension": ".py",
   "mimetype": "text/x-python",
   "name": "python",
   "nbconvert_exporter": "python",
   "pygments_lexer": "ipython3",
   "version": "3.9.12"
  }
 },
 "nbformat": 4,
 "nbformat_minor": 5
}
