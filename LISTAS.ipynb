{
 "cells": [
  {
   "cell_type": "markdown",
   "id": "31bd06b4",
   "metadata": {},
   "source": [
    "# Listas"
   ]
  },
  {
   "cell_type": "code",
   "execution_count": 306,
   "id": "d9976a7a",
   "metadata": {
    "scrolled": false
   },
   "outputs": [
    {
     "name": "stdout",
     "output_type": "stream",
     "text": [
      "[2, 5, 1, 9]\n"
     ]
    }
   ],
   "source": [
    "lista=[2,5,1,9] #Lista original\n",
    "print(lista)"
   ]
  },
  {
   "cell_type": "markdown",
   "id": "33479104",
   "metadata": {},
   "source": [
    "Aquí coloco el metodo dir() para ver los metodos que son posibles en una lista"
   ]
  },
  {
   "cell_type": "code",
   "execution_count": 254,
   "id": "115e0f01",
   "metadata": {
    "scrolled": false
   },
   "outputs": [
    {
     "name": "stdout",
     "output_type": "stream",
     "text": [
      "['__add__', '__class__', '__class_getitem__', '__contains__', '__delattr__', '__delitem__', '__dir__', '__doc__', '__eq__', '__format__', '__ge__', '__getattribute__', '__getitem__', '__gt__', '__hash__', '__iadd__', '__imul__', '__init__', '__init_subclass__', '__iter__', '__le__', '__len__', '__lt__', '__mul__', '__ne__', '__new__', '__reduce__', '__reduce_ex__', '__repr__', '__reversed__', '__rmul__', '__setattr__', '__setitem__', '__sizeof__', '__str__', '__subclasshook__', 'append', 'clear', 'copy', 'count', 'extend', 'index', 'insert', 'pop', 'remove', 'reverse', 'sort']\n"
     ]
    }
   ],
   "source": [
    "print(dir(lista))"
   ]
  },
  {
   "cell_type": "markdown",
   "id": "23edd51a",
   "metadata": {},
   "source": [
    "## .apend()"
   ]
  },
  {
   "cell_type": "markdown",
   "id": "d9a4cbaf",
   "metadata": {},
   "source": [
    "Vamos a adjuntar un elemento a la lista original"
   ]
  },
  {
   "cell_type": "code",
   "execution_count": 255,
   "id": "e1cba430",
   "metadata": {},
   "outputs": [
    {
     "name": "stdout",
     "output_type": "stream",
     "text": [
      "[2, 5, 1, 9, 7]\n"
     ]
    }
   ],
   "source": [
    "lista.append(7)\n",
    "print(lista)"
   ]
  },
  {
   "cell_type": "markdown",
   "id": "c1fb8cd0",
   "metadata": {},
   "source": [
    "## .clear()"
   ]
  },
  {
   "cell_type": "code",
   "execution_count": 256,
   "id": "5058cfe8",
   "metadata": {
    "scrolled": true
   },
   "outputs": [
    {
     "name": "stdout",
     "output_type": "stream",
     "text": [
      "[]\n"
     ]
    }
   ],
   "source": [
    "lista.clear()\n",
    "print(lista)"
   ]
  },
  {
   "cell_type": "markdown",
   "id": "1f5d8b38",
   "metadata": {},
   "source": [
    "## .copy()"
   ]
  },
  {
   "cell_type": "code",
   "execution_count": 257,
   "id": "3a972b5c",
   "metadata": {
    "scrolled": true
   },
   "outputs": [
    {
     "name": "stdout",
     "output_type": "stream",
     "text": [
      "[]\n"
     ]
    }
   ],
   "source": [
    "copied_list=lista.copy()\n",
    "print(copied_list)"
   ]
  },
  {
   "cell_type": "markdown",
   "id": "d7efd7be",
   "metadata": {},
   "source": [
    "## .count()"
   ]
  },
  {
   "cell_type": "code",
   "execution_count": 258,
   "id": "51ade3f4",
   "metadata": {
    "scrolled": true
   },
   "outputs": [
    {
     "name": "stdout",
     "output_type": "stream",
     "text": [
      "0\n"
     ]
    }
   ],
   "source": [
    "print(lista.count(9))"
   ]
  },
  {
   "cell_type": "markdown",
   "id": "53a6e00c",
   "metadata": {},
   "source": [
    "## .extend()"
   ]
  },
  {
   "cell_type": "code",
   "execution_count": null,
   "id": "01516ca1",
   "metadata": {},
   "outputs": [],
   "source": [
    "lista=[2,5,1,9]\n",
    "otra_lista=[\"Buick\", \"Nissan\", \"Ford\", \"Chevrolet\"]\n",
    "lista.extend(otra_lista)\n",
    "print(lista)"
   ]
  },
  {
   "cell_type": "markdown",
   "id": "4eb5537c",
   "metadata": {},
   "source": [
    "## .index()"
   ]
  },
  {
   "cell_type": "code",
   "execution_count": null,
   "id": "6cb48a2d",
   "metadata": {},
   "outputs": [],
   "source": [
    "otra_lista= [\"Buick\", \"Nissan\", \"Ford\", \"Chevrolet\"]\n",
    "\n",
    "indice=otra_lista.index(\"Ford\")\n",
    "\n",
    "print(indice)"
   ]
  },
  {
   "cell_type": "markdown",
   "id": "0b331e17",
   "metadata": {},
   "source": [
    "## .insert()"
   ]
  },
  {
   "cell_type": "code",
   "execution_count": null,
   "id": "ed90039b",
   "metadata": {},
   "outputs": [],
   "source": [
    "otra_lista=[\"Buick\", \"Nissan\", \"Ford\", \"Chevrolet\"]\n",
    "\n",
    "otra_lista.insert(0,\"KIA\") #Es necesario escribir el indice donde se insertaría el nuevo elemento\n",
    "\n",
    "print(otra_lista)"
   ]
  },
  {
   "cell_type": "markdown",
   "id": "b7db2a26",
   "metadata": {},
   "source": [
    "## .pop()"
   ]
  },
  {
   "cell_type": "code",
   "execution_count": 307,
   "id": "fe8a54e0",
   "metadata": {},
   "outputs": [
    {
     "name": "stdout",
     "output_type": "stream",
     "text": [
      "['Angela', 'Victoria', 'Sandra', 'Octavia']\n"
     ]
    }
   ],
   "source": [
    "lista=[\"Angela\", \"Victoria\", \"Sandra\", \"Mariel\", \"Octavia\"]\n",
    "lista.pop(3) #Quita el elemento del indice\n",
    "print(lista)"
   ]
  },
  {
   "cell_type": "code",
   "execution_count": null,
   "id": "296cca0c",
   "metadata": {},
   "outputs": [],
   "source": []
  },
  {
   "cell_type": "code",
   "execution_count": null,
   "id": "91c0401d",
   "metadata": {},
   "outputs": [],
   "source": []
  },
  {
   "cell_type": "code",
   "execution_count": null,
   "id": "87be0a12",
   "metadata": {},
   "outputs": [],
   "source": [
    "my_list=[]\n",
    "\n",
    "for i in range(0,7):\n",
    "    print(i)\n",
    "    my_list.append(i)\n",
    "print(my_list)"
   ]
  },
  {
   "cell_type": "code",
   "execution_count": null,
   "id": "30729760",
   "metadata": {},
   "outputs": [],
   "source": [
    "Ord([0,2,6,5,20,15])"
   ]
  },
  {
   "cell_type": "markdown",
   "id": "1c18e700",
   "metadata": {},
   "source": [
    "# while-for"
   ]
  },
  {
   "cell_type": "code",
   "execution_count": null,
   "id": "c96f07f6",
   "metadata": {},
   "outputs": [],
   "source": [
    "l=[-5, 0,1, 2, 3, 4, 5, 6]\n",
    "new_list=[]\n",
    "\n",
    "while len(l) != 0:\n",
    "    min=l[0]\n",
    "    for contador in range(len(l)-1):\n",
    "        #print(contador)\n",
    "        aux=l[contador+1]\n",
    "        if min<aux:\n",
    "            min=min\n",
    "        else:\n",
    "            min=aux\n",
    "    print(min)\n",
    "    new_list.append(min)\n",
    "    l.remove(min)\n",
    "    \n",
    "\n",
    "print(new_list)\n",
    "print(l)        \n",
    "print(min)\n"
   ]
  },
  {
   "cell_type": "markdown",
   "id": "2bca77d6",
   "metadata": {},
   "source": [
    "# for-for"
   ]
  },
  {
   "cell_type": "code",
   "execution_count": null,
   "id": "09e22dfd",
   "metadata": {},
   "outputs": [],
   "source": [
    "l=[8, 0,3, 0, 9, 7, 5, 6]\n",
    "new_list=[]\n",
    "\n",
    "for i in range(len(l)):\n",
    "    print(i)\n",
    "    min=l[0]\n",
    "    for contador in range(len(l)-1):\n",
    "        #print(contador)\n",
    "        aux=l[contador+1]\n",
    "        if min<aux:\n",
    "            min=min\n",
    "        else:\n",
    "            min=aux\n",
    "    print(min)\n",
    "    new_list.append(min)\n",
    "    l.remove(min)\n"
   ]
  },
  {
   "cell_type": "markdown",
   "id": "85c8b6aa",
   "metadata": {},
   "source": [
    "# while-while"
   ]
  },
  {
   "cell_type": "code",
   "execution_count": null,
   "id": "8b59bd83",
   "metadata": {},
   "outputs": [],
   "source": [
    "l=[-5, 0,1, 2, 3, 4, 5, 6]\n",
    "new_list=[]\n",
    "\n",
    "while len(l) != 0:\n",
    "    min=l[0]\n",
    "    contador=0\n",
    "    while contador < len(l)-1:\n",
    "        aux=l[contador+1]\n",
    "        if min<aux:\n",
    "            min=min\n",
    "        else:\n",
    "            min=aux\n",
    "        contador=contador+1\n",
    "    print(min)\n",
    "    new_list.append(min)\n",
    "    l.remove(min)\n",
    "\n",
    "print(new_list)\n",
    "print(l)        \n",
    "print(min)"
   ]
  },
  {
   "cell_type": "markdown",
   "id": "d2daf7b3",
   "metadata": {},
   "source": [
    "# for-while"
   ]
  },
  {
   "cell_type": "code",
   "execution_count": null,
   "id": "e4dfa1f7",
   "metadata": {},
   "outputs": [],
   "source": [
    "l=[-5, 7,1, 2, 3, 4, 5, 6]\n",
    "new_list=[]\n",
    "\n",
    "\n",
    "for i in range(len(l)):\n",
    "    min=l[0]\n",
    "    contador=0\n",
    "    while contador < len(l)-1:\n",
    "        aux=l[contador+1]\n",
    "        contador=contador+1\n",
    "        print(aux)\n",
    "        if min<aux:\n",
    "            min=min\n",
    "        else:\n",
    "            min=aux\n",
    "    print(min)\n",
    "    new_list.append(min)\n",
    "    l.remove(min)\n",
    "    \n",
    "\n",
    "print(new_list)\n",
    "print(l)        \n",
    "print(min)"
   ]
  },
  {
   "cell_type": "code",
   "execution_count": null,
   "id": "bdd86ef0",
   "metadata": {},
   "outputs": [],
   "source": [
    "print(len(l))"
   ]
  },
  {
   "cell_type": "code",
   "execution_count": null,
   "id": "63437c5a",
   "metadata": {
    "scrolled": true
   },
   "outputs": [],
   "source": [
    "for i in range(len(l)):\n",
    "    print(i)"
   ]
  },
  {
   "cell_type": "code",
   "execution_count": null,
   "id": "bf5bcb5c",
   "metadata": {},
   "outputs": [],
   "source": [
    "i=0\n",
    "while i < 5:\n",
    "    print(i)\n",
    "    i+=1"
   ]
  },
  {
   "cell_type": "code",
   "execution_count": null,
   "id": "bb4a5888",
   "metadata": {},
   "outputs": [],
   "source": [
    "i=5\n",
    "while i>0:\n",
    "    print(i)\n",
    "    i-=1\n",
    "    "
   ]
  },
  {
   "cell_type": "code",
   "execution_count": null,
   "id": "b1a7808b",
   "metadata": {},
   "outputs": [],
   "source": [
    "i=5\n",
    "for j in range(i):\n",
    "    print(i)\n",
    "    i-=1"
   ]
  },
  {
   "cell_type": "code",
   "execution_count": null,
   "id": "be13fef7",
   "metadata": {},
   "outputs": [],
   "source": [
    "l=[3,52,4,43]\n",
    "while len(l):\n",
    "    l.pop(0)\n",
    "    print(l)"
   ]
  },
  {
   "cell_type": "code",
   "execution_count": null,
   "id": "6dae3f0d",
   "metadata": {},
   "outputs": [],
   "source": [
    "l=[3,52,4,43]\n",
    "for i in range(len(l)):\n",
    "    l.pop(0)\n",
    "    print(l)"
   ]
  },
  {
   "cell_type": "code",
   "execution_count": null,
   "id": "09f47b42",
   "metadata": {},
   "outputs": [],
   "source": [
    "flag=\" \"\n",
    "if flag:\n",
    "    print(\"Es verdad\")\n",
    "else:\n",
    "    print(\"Es mentira\")"
   ]
  },
  {
   "cell_type": "code",
   "execution_count": null,
   "id": "619a4587",
   "metadata": {},
   "outputs": [],
   "source": [
    "lista=[4,85,53,2,854]"
   ]
  },
  {
   "cell_type": "code",
   "execution_count": null,
   "id": "a98f894e",
   "metadata": {},
   "outputs": [],
   "source": [
    "print(lista[::-1])"
   ]
  },
  {
   "cell_type": "code",
   "execution_count": null,
   "id": "ee31cf29",
   "metadata": {},
   "outputs": [],
   "source": []
  },
  {
   "cell_type": "code",
   "execution_count": null,
   "id": "09312486",
   "metadata": {},
   "outputs": [],
   "source": [
    "class cad:\n",
    "    def __init__(self, a=\"\"):\n",
    "        self.a = a\n",
    " \n",
    "    # adding two objects \n",
    "    def __lt__(self, o):\n",
    "        return  len(self.a)<len(o.a)\n",
    "    \n",
    "    def __str__(self):\n",
    "        return self.a\n",
    "    def __repr__(self):\n",
    "        return str(self.a)"
   ]
  },
  {
   "cell_type": "code",
   "execution_count": null,
   "id": "f5845599",
   "metadata": {},
   "outputs": [],
   "source": [
    "l=[cad(\"1234\"),cad(\"12\"),cad(\"1\"),cad(\"12345678\")]\n",
    "new_list=[]\n",
    "\n",
    "while len(l) != 0:\n",
    "    min=l[0]\n",
    "    for contador in range(len(l)-1):\n",
    "        #print(contador)\n",
    "        aux=l[contador+1]\n",
    "        if min<aux:\n",
    "            min=min\n",
    "        else:\n",
    "            min=aux\n",
    "    new_list.append(min)\n",
    "    l.remove(min)\n",
    "\n",
    "a=[str(i) for i in new_list]\n",
    "print(a)"
   ]
  },
  {
   "cell_type": "code",
   "execution_count": null,
   "id": "2de691e7",
   "metadata": {},
   "outputs": [],
   "source": [
    "class nodo\n",
    "    data\n",
    "    sig\n",
    "    \n",
    "\n",
    "class lista\n",
    "    nodo_0\n",
    "    \n",
    "    def agrega_inicio\n",
    "    \n",
    "    def agrega_final\n",
    "    \n",
    "    def elimina(data)\n",
    "    \n"
   ]
  },
  {
   "cell_type": "code",
   "execution_count": null,
   "id": "c7d2f7d4",
   "metadata": {},
   "outputs": [],
   "source": [
    "class laberinto\n",
    "    __init__(matrix)\n",
    "    "
   ]
  },
  {
   "cell_type": "code",
   "execution_count": null,
   "id": "4b237472",
   "metadata": {},
   "outputs": [],
   "source": [
    "from random import randint\n",
    "lab=[[randint(0,1) for i in range(5)] for j in range(5)]"
   ]
  },
  {
   "cell_type": "code",
   "execution_count": null,
   "id": "c084bbf1",
   "metadata": {},
   "outputs": [],
   "source": [
    "[[lab[i][2]] for i in range(len(lab))]"
   ]
  },
  {
   "cell_type": "code",
   "execution_count": null,
   "id": "f0d070b8",
   "metadata": {
    "scrolled": true
   },
   "outputs": [],
   "source": [
    "lab"
   ]
  },
  {
   "cell_type": "code",
   "execution_count": null,
   "id": "ed794afc",
   "metadata": {},
   "outputs": [],
   "source": [
    "if lab[0][0] and lab[-1][-1]:\n",
    "    print(\"puede ser true\")\n",
    "else:\n",
    "    print(\"valio verga pasaje\")"
   ]
  },
  {
   "cell_type": "code",
   "execution_count": null,
   "id": "b6c74b15",
   "metadata": {},
   "outputs": [],
   "source": [
    "lab[0][0]"
   ]
  },
  {
   "cell_type": "code",
   "execution_count": null,
   "id": "70e78a46",
   "metadata": {
    "scrolled": true
   },
   "outputs": [],
   "source": [
    "maze=[[1,1,1],[1,0,1],[0,1,1]]\n",
    "print(maze[0][2])"
   ]
  },
  {
   "cell_type": "code",
   "execution_count": null,
   "id": "be1f0749",
   "metadata": {
    "scrolled": true
   },
   "outputs": [],
   "source": [
    "if maze[0][0] and maze[2][2] == 1:\n",
    "    print(\"Puede que tenga solución\")\n",
    "    #print(maze[1][0])\n",
    "    if maze[0][1] or maze[1][0] ==1 and maze[1][2] or maze[2][1] ==1:\n",
    "        print(\"Ahi vas perro\")\n",
    "        if maze[1][1] ==1:\n",
    "            print(\"Tiene solución pasando por el centro\")\n",
    "        elif maze[0][2] and maze[0][1]==1 and maze[1][2]:\n",
    "            print(\"Tiene solución por la periferia derecha\")\n",
    "        elif maze[1][0] and maze[2][0]==1 and maze[2][1]:\n",
    "            print(\"Tiene solución por la periferia izquierda\")\n",
    "        else:\n",
    "            print(\"Lamentablemente este laberito no tiene solución\")\n",
    "    else:\n",
    "        print(\"Hasta aquí llegaste Lord Blackwood\")\n",
    "else:\n",
    "    print(\"Unfoutunatelly this maze does not have solution\")"
   ]
  },
  {
   "cell_type": "code",
   "execution_count": null,
   "id": "8dde1313",
   "metadata": {},
   "outputs": [],
   "source": []
  },
  {
   "cell_type": "markdown",
   "id": "47553ac2",
   "metadata": {},
   "source": [
    "# HackerRank"
   ]
  },
  {
   "cell_type": "markdown",
   "id": "68a4b701",
   "metadata": {},
   "source": [
    "## Plusminus"
   ]
  },
  {
   "cell_type": "code",
   "execution_count": null,
   "id": "b8fe7e30",
   "metadata": {},
   "outputs": [],
   "source": [
    "\n",
    "\n",
    "from random import randint\n",
    "arr=[randint(-100,100) for i in range(10000)]\n",
    "arrP=[]\n",
    "arrN=[]\n",
    "arrZ=[]\n",
    "\n",
    "\n",
    "for i in arr:\n",
    "    if i > 0:\n",
    "        arrP.append(i)\n",
    "    elif i < 0:\n",
    "        arrN.append(i)\n",
    "    else:\n",
    "        arrZ.append(i)\n",
    "\n",
    "P=len(arrP)/len(arr)\n",
    "N=len(arrN)/len(arr)\n",
    "Z=len(arrZ)/len(arr)\n",
    "\n",
    "print(len(arrP)/len(arr))\n",
    "print(len(arrN)/len(arr))\n",
    "print(len(arrZ)/len(arr))\n",
    "\n",
    "#print(P)\n",
    "#print(N)\n",
    "#print(Z)\n",
    "\n",
    "        \n",
    "#print(\"{:.6f}\".format(P))\n",
    "#print(\"{:.6f}\".format(N))\n",
    "#print(\"{:.6f}\".format(Z))"
   ]
  },
  {
   "cell_type": "markdown",
   "id": "6d689b5b",
   "metadata": {},
   "source": [
    "## Mini-Max Sum"
   ]
  },
  {
   "cell_type": "code",
   "execution_count": null,
   "id": "422dd99c",
   "metadata": {
    "scrolled": true
   },
   "outputs": [],
   "source": [
    "arr=[1,2,3,4, 5]\n",
    "arr_min=arr.copy()\n",
    "print(arr)\n",
    "arr_max=arr.copy()\n",
    "min=arr[0]\n",
    "\n",
    "\n",
    "for i in arr_min:\n",
    "    #print(\"ARRAY:\",i)\n",
    "    for j in range(len(arr_min)-1):\n",
    "        aux=j+1\n",
    "        #print(arr[aux])\n",
    "        if min < arr[aux]:\n",
    "            min=min\n",
    "        else:\n",
    "            min=arr[aux]\n",
    "            \n",
    "#print(\"minimo\",min)\n",
    "index_minimo= arr_min.index(min)\n",
    "#print(index_minimo)\n",
    "print(arr_min.pop(index_minimo))\n",
    "print(arr_min)\n",
    "\n",
    "sum_min=0\n",
    "for i in arr_min:\n",
    "    #arr_min[i]\n",
    "    #print(i)\n",
    "    sum_min+=i\n",
    "    \n",
    "print(\"La suma quitando el minimo es:\" ,sum_min)\n",
    "print(\"\\n\")\n",
    "    \n",
    "#print(arr_max)\n",
    "max=arr[0]\n",
    "for a in arr_max:\n",
    "    #print(a)\n",
    "    for b in range(len(arr_max)-1):\n",
    "        aux=b+1\n",
    "        #print(arr[aux])\n",
    "        if max > arr[aux]:\n",
    "            max=max\n",
    "        else:\n",
    "            max=arr[aux]\n",
    "    \n",
    "#print(\"Maximo\", max)\n",
    "index_maximo= arr_max.index(max)\n",
    "print(arr_max.pop(index_maximo))\n",
    "print(arr_max)\n",
    "\n",
    "sum_max=0\n",
    "for g in arr_max:\n",
    "    sum_max=sum_max+g\n",
    "\n",
    "print(\"La suma quitando el maximo es: \", sum_max)\n",
    "    \n",
    " \n",
    "        \n",
    "        \n",
    "        "
   ]
  },
  {
   "cell_type": "markdown",
   "id": "a7211a31",
   "metadata": {},
   "source": [
    "## Time-Conversion"
   ]
  },
  {
   "cell_type": "code",
   "execution_count": null,
   "id": "331ff5e4",
   "metadata": {},
   "outputs": [],
   "source": [
    "hour=\"01:00:00PM\" #Regresa 00:01:00HRS\n",
    "\n",
    "#print(hour[:2])\n",
    "\n",
    "if hour[-2:] == \"AM\" and int(hour[:2])>= 12:\n",
    "    print(\"0\"+str(int(hour[:2])-12)+hour[2:-2]+\"HRS\")\n",
    "elif hour[-2:] == \"PM\" and int(hour[:2]) == 12:\n",
    "    print(hour[:-2]+\"HRS\")\n",
    "elif hour[-2:] == \"AM\":\n",
    "    print(hour[:-2]+\"HRS\")\n",
    "elif hour[-2:] == \"PM\" and int(hour[:2]) >= 1:\n",
    "    print(str(int(hour[:2])+12)+hour[2:-2]+\"HRS\")\n",
    "#else:\n",
    " #   m_hour=int(hour[:2])+12\n",
    "  #  print(str(m_hour)+hour[2:-2]+\"HRS\")"
   ]
  },
  {
   "cell_type": "code",
   "execution_count": null,
   "id": "fefd9e3a",
   "metadata": {},
   "outputs": [],
   "source": [
    "hour=\"01:00:00PM\"\n",
    "hora=int(hour[:2])%12+(hour[-2:]==\"PM\")*12\n",
    "print(str(hora).zfill(2)+hour[2:-2])"
   ]
  },
  {
   "cell_type": "code",
   "execution_count": null,
   "id": "1c18baa5",
   "metadata": {},
   "outputs": [],
   "source": [
    "\n",
    "hour=\"01:00:00PM\"\n",
    "hora=int(hour[:2])%12\n",
    "if hour[-2:]==\"PM\":\n",
    "    hora=hora+12\n",
    "print(str(hora).zfill(2)+hour[2:-2])"
   ]
  },
  {
   "cell_type": "code",
   "execution_count": null,
   "id": "a45e6f04",
   "metadata": {},
   "outputs": [],
   "source": [
    "def timeConversion(s):\n",
    "    # Write your code here\n",
    "\n",
    "    if s[-2:] == \"AM\" and int(s[:2])>= 12:\n",
    "        return print(\"0\"+str(int(s[:2])-12)+s[2:-2]+\"HRS\")\n",
    "    elif s[-2:] == \"PM\" and int(s[:2]) == 12:\n",
    "        return print(s[:-2]+\"HRS\")\n",
    "    elif s[-2:] == \"AM\":\n",
    "        return print(s[:-2]+\"HRS\")\n",
    "    elif s[-2:] == \"PM\" and int(s[:2]) >= 1:\n",
    "        return print(str(int(s[:2])+12)+s[2:-2]+\"HRS\")\n",
    "\n",
    "\n",
    "    \n",
    "timeConversion(\"08:00:00PM\")"
   ]
  },
  {
   "cell_type": "code",
   "execution_count": 87,
   "id": "6edb11b3",
   "metadata": {},
   "outputs": [
    {
     "name": "stdout",
     "output_type": "stream",
     "text": [
      "[12, 12]\n",
      "[12, 12]\n",
      "[12, 12, 12]\n",
      "[12, 12, 24]\n",
      "[12, 12, 12, 10]\n",
      "[12, 12, 24, 24]\n",
      "[12, 12, 10, 10]\n",
      "[12, 24, 24, 24]\n"
     ]
    }
   ],
   "source": [
    "scores=[12,24,10,24]\n",
    "min=[]\n",
    "max=[]\n",
    "min.append(scores[0])\n",
    "max.append(scores[0])\n",
    "\n",
    "minimo=min[0] #12\n",
    "maximo=max[0] #12\n",
    "\n",
    "for value in scores:\n",
    "    #12\n",
    "    if value <= minimo:\n",
    "        minimo=value\n",
    "        min.append(minimo)\n",
    "        #print(min)\n",
    "    else:\n",
    "        min.append(minimo)\n",
    "    print(min[-4:])\n",
    "    \n",
    "    if value >= maximo:\n",
    "        maximo=value\n",
    "        max.append(maximo)\n",
    "    else:\n",
    "        max.append(maximo)\n",
    "        #print(max)\n",
    "    print(max[-4:])    \n"
   ]
  },
  {
   "cell_type": "code",
   "execution_count": 140,
   "id": "0420a84f",
   "metadata": {},
   "outputs": [
    {
     "name": "stdout",
     "output_type": "stream",
     "text": [
      "[12, 12, 10, 10, 3, 3]\n",
      "[12, 24, 24, 24, 24, 30]\n",
      "[0, 0, 1, 1, 1, 1]\n",
      "[0, 1, 1, 1, 1, 1]\n"
     ]
    }
   ],
   "source": [
    "scores=[12,24,10,24,3,30]\n",
    "\n",
    "aux=scores[0] #12\n",
    "maximo=0\n",
    "\n",
    "min=[]\n",
    "max=[]\n",
    "\n",
    "for value in scores:\n",
    "    #24\n",
    "    if value == aux:   \n",
    "            \n",
    "        min.append(aux)\n",
    "        max.append(aux)\n",
    "    elif value < aux:\n",
    "        max.append(maximo)\n",
    "        aux=value\n",
    "        min.append(aux)\n",
    "    elif value > aux:\n",
    "        maximo=value\n",
    "        min.append(aux)\n",
    "        max.append(maximo)\n",
    "    \n",
    "print(min)\n",
    "print(max)\n",
    "\n",
    "result_min=[]\n",
    "result_max=[]\n",
    "        \n",
    "for i in range(len(min)):\n",
    "    cambio=min[0]\n",
    "    if cambio == min[i]:\n",
    "        result_min.append(0)\n",
    "    else:\n",
    "        result_min.append(1)\n",
    "\n",
    "for j in range(len(max)):\n",
    "    cambio_maximo=max[0]\n",
    "    if cambio_maximo == max[j]:\n",
    "        result_max.append(0)\n",
    "    else:\n",
    "        result_max.append(1)\n",
    "    \n",
    "print(result_min)\n",
    "print(result_max)"
   ]
  },
  {
   "cell_type": "code",
   "execution_count": 194,
   "id": "6459de60",
   "metadata": {},
   "outputs": [
    {
     "name": "stdout",
     "output_type": "stream",
     "text": [
      "20\n",
      "[5, 1]\n"
     ]
    }
   ],
   "source": [
    "array=[int(i) for i in \"17 45 41 60 17 41 76 43 51 40 89 92 34 6 64 7 37 81 32 50\".split(\" \")]\n",
    "\n",
    "aux=array[0]\n",
    "\n",
    "count_max=0\n",
    "count_min=0\n",
    "\n",
    "maximo= array[0]\n",
    "minimo= array[0]\n",
    "\n",
    "for i in range(len(array)):\n",
    "    #print(array[i])\n",
    "    if minimo > array[i]:\n",
    "        count_min=count_min+1\n",
    "        minimo=array[i] \n",
    "    elif maximo < array[i]:\n",
    "        count_max=count_max+1\n",
    "        maximo=array[i]\n",
    "\n",
    "\n",
    "record=[]        \n",
    "record.append(count_max)\n",
    "record.append(count_min)\n",
    "\n",
    "print(len(array))\n",
    "print(record)\n",
    "        \n",
    "        \n",
    "        \n",
    "        "
   ]
  },
  {
   "cell_type": "code",
   "execution_count": 250,
   "id": "4b554809",
   "metadata": {},
   "outputs": [
    {
     "name": "stdout",
     "output_type": "stream",
     "text": [
      "(1, 3)\n",
      "4\n",
      "(1, 2)\n",
      "3\n",
      "(1, 6)\n",
      "7\n",
      "(1, 1)\n",
      "2\n",
      "(1, 2)\n",
      "3\n",
      "(3, 2)\n",
      "5\n",
      "(3, 6)\n",
      "9\n",
      "(3, 1)\n",
      "4\n",
      "(3, 2)\n",
      "5\n",
      "(2, 6)\n",
      "8\n",
      "(2, 1)\n",
      "3\n",
      "(2, 2)\n",
      "4\n",
      "(6, 1)\n",
      "7\n",
      "(6, 2)\n",
      "8\n",
      "(1, 2)\n",
      "3\n",
      "5\n"
     ]
    }
   ],
   "source": [
    "ar=[1,3,2,6,1,2]\n",
    "\n",
    "n=6\n",
    "k=3\n",
    "\n",
    "count=0\n",
    "\n",
    "for i in range(len(ar)):\n",
    "    for j in range(i+1,len(ar)):\n",
    "        print((ar[i],ar[j]))\n",
    "        res=ar[i]+ar[j]\n",
    "        print(res)\n",
    "        div=res%k\n",
    "        str_div=str(div)\n",
    "        #print(str_div[2:])\n",
    "        if div == 0:\n",
    "            count=count+1\n",
    "\n",
    "print(count)\n",
    "            "
   ]
  },
  {
   "cell_type": "code",
   "execution_count": 268,
   "id": "da051b02",
   "metadata": {},
   "outputs": [
    {
     "name": "stdout",
     "output_type": "stream",
     "text": [
      "[2, 1, 0]\n"
     ]
    }
   ],
   "source": [
    "string=[\"ab\",\"ab\",\"abc\"]\n",
    "queries=[\"ab\", \"abc\", \"bc\"]\n",
    "\n",
    "res=[]\n",
    "\n",
    "for i in queries:\n",
    "    value=string.count(i)\n",
    "    #print(value)\n",
    "    res.append(value)\n",
    "print(res)\n",
    "        \n",
    "        "
   ]
  },
  {
   "cell_type": "code",
   "execution_count": 305,
   "id": "4ccb4e39",
   "metadata": {},
   "outputs": [
    {
     "name": "stdout",
     "output_type": "stream",
     "text": [
      "[0, 1, 2, 3, 4, 5, 6, 10, 11]\n",
      "9\n",
      "4\n"
     ]
    }
   ],
   "source": [
    "arr=[0,1,2,4,5,6,3,10,11]\n",
    "\n",
    "x=sorted(arr)\n",
    "print(x)\n",
    "print(len(x))\n",
    "\n",
    "res=len(x)/2\n",
    "num=res-0.5\n",
    "#indice=int(num)\n",
    "#print(int(num))\n",
    "\n",
    "median=x[int(num)]\n",
    "print(median)"
   ]
  },
  {
   "cell_type": "markdown",
   "id": "767f2c2e",
   "metadata": {},
   "source": [
    "## Camel Case\n",
    "\n",
    "- S= Split\n",
    "- C= Combine\n",
    "\n",
    "\n",
    "* M= Method   (starting with lowercase and add () )\n",
    "* C= Class    (starting with Capital Letter)\n",
    "* V= Variable (starting with lowercase)\n",
    "\n",
    "\n",
    "Input:\n",
    "\n",
    "- S;M;plasticCup()\n",
    "\n",
    "- C;V;mobile phone\n",
    "\n",
    "- C;C;coffee machine\n",
    "\n",
    "- S;C;LargeSoftwareBook\n",
    "\n",
    "- C;M;white sheet of paper\n",
    "\n",
    "- S;V;pictureFrame\n",
    "\n",
    "\n",
    "Output:\n",
    "\n",
    "- plastic cup\n",
    "\n",
    "- mobilePhone\n",
    "\n",
    "- CoffeeMachine\n",
    "\n",
    "- large software book\n",
    "\n",
    "- whiteSheetOfPaper()\n",
    "\n",
    "- picture frame"
   ]
  },
  {
   "cell_type": "code",
   "execution_count": 388,
   "id": "737c1504",
   "metadata": {},
   "outputs": [
    {
     "name": "stdout",
     "output_type": "stream",
     "text": [
      "Split & method()\n",
      "plasticCup\n",
      "10\n",
      "0\n",
      "p\n",
      "1\n",
      "l\n",
      "2\n",
      "a\n",
      "3\n",
      "s\n",
      "4\n",
      "t\n",
      "5\n",
      "i\n",
      "6\n",
      "c\n",
      "7\n",
      "C\n",
      "7\n",
      "plastic Cup\n",
      "jajaja Que hacemos aqui?\n",
      "8\n",
      "u\n",
      "9\n",
      "p\n"
     ]
    }
   ],
   "source": [
    "string=\"S;M;plasticCup()\"\n",
    "\n",
    "#print(string[:1])\n",
    "#print(type(string.split()))\n",
    "\n",
    "if string[:4] == \"S;M;\":\n",
    "    print(\"Split & method()\")\n",
    "    \n",
    "    x=string[4:-2]\n",
    "    print(x)\n",
    "    print(len(x))\n",
    "    \n",
    "    \n",
    "    for i in range(len(x)):\n",
    "        print(i)\n",
    "        #letter=string[4:-2]\n",
    "        print(x[i]) #str\n",
    "        #print(letter.isupper())\n",
    "        \n",
    "        if x[i].isupper() == True:\n",
    "            print(i) #7\n",
    "            print(x[:i]+ \" \" +x[-(len(x)-i):]) #<-----------\n",
    "            print(\"jajaja Que hacemos aqui?\")\n",
    "            \n",
    "            \n",
    "        \n",
    "        \n",
    "\n",
    "    \n"
   ]
  },
  {
   "cell_type": "code",
   "execution_count": 347,
   "id": "12f3d296",
   "metadata": {},
   "outputs": [
    {
     "name": "stdout",
     "output_type": "stream",
     "text": [
      "Huevos Jamon\n"
     ]
    }
   ],
   "source": [
    "texto=\"HuevosJamon\"\n",
    "\n",
    "#texto.append(\" \")\n",
    "\n",
    "print(texto[:6]+ \" \" +texto[6:])"
   ]
  },
  {
   "cell_type": "code",
   "execution_count": 353,
   "id": "6572753f",
   "metadata": {},
   "outputs": [
    {
     "name": "stdout",
     "output_type": "stream",
     "text": [
      "cadenaDeOraciónParaLosSlice\n",
      "adenaDeOraciónParaLosSlice\n",
      "c\n",
      "e\n",
      "cadenaDeOraciónParaLosSlic\n"
     ]
    }
   ],
   "source": [
    "texto=\"cadenaDeOraciónParaLosSlice\"\n",
    "\n",
    "print(texto)\n",
    "\n",
    "print(texto[1:]) #Quita la primer letra al principio de la cadena\n",
    "print(texto[:1]) #Quita todo y solo deja la primer letra\n",
    "\n",
    "print(texto[-1:]) #Solo imprime la ultima letra del texto\n",
    "print(texto[:-1]) #Solo quita la ultima letra del texto"
   ]
  },
  {
   "cell_type": "code",
   "execution_count": null,
   "id": "837725e9",
   "metadata": {},
   "outputs": [],
   "source": []
  },
  {
   "cell_type": "code",
   "execution_count": null,
   "id": "f0bf6bd5",
   "metadata": {},
   "outputs": [],
   "source": []
  },
  {
   "cell_type": "code",
   "execution_count": null,
   "id": "904ce294",
   "metadata": {},
   "outputs": [],
   "source": []
  }
 ],
 "metadata": {
  "kernelspec": {
   "display_name": "Python 3 (ipykernel)",
   "language": "python",
   "name": "python3"
  },
  "language_info": {
   "codemirror_mode": {
    "name": "ipython",
    "version": 3
   },
   "file_extension": ".py",
   "mimetype": "text/x-python",
   "name": "python",
   "nbconvert_exporter": "python",
   "pygments_lexer": "ipython3",
   "version": "3.9.12"
  }
 },
 "nbformat": 4,
 "nbformat_minor": 5
}
